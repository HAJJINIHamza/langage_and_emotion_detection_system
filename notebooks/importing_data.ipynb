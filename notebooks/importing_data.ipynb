{
 "cells": [
  {
   "cell_type": "markdown",
   "metadata": {},
   "source": [
    "# Importing Data\n",
    "In this notebook we well donwload data from different sources orgnise it and store it in our local environnement "
   ]
  },
  {
   "cell_type": "code",
   "execution_count": 1,
   "metadata": {},
   "outputs": [
    {
     "name": "stderr",
     "output_type": "stream",
     "text": [
      "d:\\Users\\chatbot_emotions_detection\\venv\\Lib\\site-packages\\tqdm\\auto.py:21: TqdmWarning: IProgress not found. Please update jupyter and ipywidgets. See https://ipywidgets.readthedocs.io/en/stable/user_install.html\n",
      "  from .autonotebook import tqdm as notebook_tqdm\n"
     ]
    }
   ],
   "source": [
    "from datasets import load_dataset\n",
    "import pandas as pd\n",
    "import time "
   ]
  },
  {
   "cell_type": "markdown",
   "metadata": {},
   "source": [
    "### Arabic Emotions Datasets"
   ]
  },
  {
   "cell_type": "markdown",
   "metadata": {},
   "source": [
    "|label | Label description | Count | \n",
    "|------|-------------------|-------| \n",
    "|0     |     none          | 1550  | \n",
    "|1     |    anger          | 1444  | \n",
    "|2     |joy                |  1281 | \n",
    "|3     |sadness            | 1256  | \n",
    "|4     |love               | 1220  | \n",
    "|5     |sympathy           | 1062  | \n",
    "|6     |surprise           | 1045  | \n",
    "|7     |fear               | 1207  |"
   ]
  },
  {
   "cell_type": "code",
   "execution_count": 3,
   "metadata": {},
   "outputs": [
    {
     "data": {
      "text/plain": [
       "DatasetDict({\n",
       "    train: Dataset({\n",
       "        features: ['tweet', 'label'],\n",
       "        num_rows: 10065\n",
       "    })\n",
       "})"
      ]
     },
     "execution_count": 3,
     "metadata": {},
     "output_type": "execute_result"
    }
   ],
   "source": [
    "#Importing data\n",
    "emotions_ar = load_dataset ( 'emotone_ar' )\n",
    "emotions_ar"
   ]
  },
  {
   "cell_type": "code",
   "execution_count": 5,
   "metadata": {},
   "outputs": [
    {
     "data": {
      "text/plain": [
       "Dataset({\n",
       "    features: ['tweet', 'label'],\n",
       "    num_rows: 10065\n",
       "})"
      ]
     },
     "execution_count": 5,
     "metadata": {},
     "output_type": "execute_result"
    }
   ],
   "source": [
    "emotions_ar_train = emotions_ar ['train']\n",
    "emotions_ar_train"
   ]
  },
  {
   "cell_type": "code",
   "execution_count": 8,
   "metadata": {},
   "outputs": [
    {
     "data": {
      "text/html": [
       "<div>\n",
       "<style scoped>\n",
       "    .dataframe tbody tr th:only-of-type {\n",
       "        vertical-align: middle;\n",
       "    }\n",
       "\n",
       "    .dataframe tbody tr th {\n",
       "        vertical-align: top;\n",
       "    }\n",
       "\n",
       "    .dataframe thead th {\n",
       "        text-align: right;\n",
       "    }\n",
       "</style>\n",
       "<table border=\"1\" class=\"dataframe\">\n",
       "  <thead>\n",
       "    <tr style=\"text-align: right;\">\n",
       "      <th></th>\n",
       "      <th>tweet</th>\n",
       "      <th>label</th>\n",
       "    </tr>\n",
       "  </thead>\n",
       "  <tbody>\n",
       "    <tr>\n",
       "      <th>0</th>\n",
       "      <td>الاوليمبياد الجايه هكون لسه ف الكليه ..</td>\n",
       "      <td>0</td>\n",
       "    </tr>\n",
       "    <tr>\n",
       "      <th>1</th>\n",
       "      <td>عجز الموازنه وصل ل93.7 % من الناتج المحلي يعني...</td>\n",
       "      <td>1</td>\n",
       "    </tr>\n",
       "    <tr>\n",
       "      <th>2</th>\n",
       "      <td>كتنا نيله ف حظنا الهباب xD</td>\n",
       "      <td>3</td>\n",
       "    </tr>\n",
       "    <tr>\n",
       "      <th>3</th>\n",
       "      <td>جميعنا نريد تحقيق اهدافنا لكن تونس تالقت في حر...</td>\n",
       "      <td>2</td>\n",
       "    </tr>\n",
       "    <tr>\n",
       "      <th>4</th>\n",
       "      <td>الاوليمبياد نظامها مختلف .. ومواعيد المونديال ...</td>\n",
       "      <td>0</td>\n",
       "    </tr>\n",
       "    <tr>\n",
       "      <th>...</th>\n",
       "      <td>...</td>\n",
       "      <td>...</td>\n",
       "    </tr>\n",
       "    <tr>\n",
       "      <th>10060</th>\n",
       "      <td>2222: يلا يا جماعه حفله عمرو دياب خلصت نريح شو...</td>\n",
       "      <td>3</td>\n",
       "    </tr>\n",
       "    <tr>\n",
       "      <th>10061</th>\n",
       "      <td>Mohamed5: اييييه دااا 😲😲 اوزيييل❤</td>\n",
       "      <td>6</td>\n",
       "    </tr>\n",
       "    <tr>\n",
       "      <th>10062</th>\n",
       "      <td>عملتلها ريتويت بمناسبه ساره بتاعه الاوليمبياد 😃</td>\n",
       "      <td>0</td>\n",
       "    </tr>\n",
       "    <tr>\n",
       "      <th>10063</th>\n",
       "      <td>وعليك قبلنا يانجم النجوم ياعندليب الحب والاحساس</td>\n",
       "      <td>2</td>\n",
       "    </tr>\n",
       "    <tr>\n",
       "      <th>10064</th>\n",
       "      <td>AlHamad يطلع ننهم كل شي سيء ووضيع كل خساسه الع...</td>\n",
       "      <td>1</td>\n",
       "    </tr>\n",
       "  </tbody>\n",
       "</table>\n",
       "<p>10065 rows × 2 columns</p>\n",
       "</div>"
      ],
      "text/plain": [
       "                                                   tweet  label\n",
       "0                الاوليمبياد الجايه هكون لسه ف الكليه ..      0\n",
       "1      عجز الموازنه وصل ل93.7 % من الناتج المحلي يعني...      1\n",
       "2                             كتنا نيله ف حظنا الهباب xD      3\n",
       "3      جميعنا نريد تحقيق اهدافنا لكن تونس تالقت في حر...      2\n",
       "4      الاوليمبياد نظامها مختلف .. ومواعيد المونديال ...      0\n",
       "...                                                  ...    ...\n",
       "10060  2222: يلا يا جماعه حفله عمرو دياب خلصت نريح شو...      3\n",
       "10061                  Mohamed5: اييييه دااا 😲😲 اوزيييل❤      6\n",
       "10062    عملتلها ريتويت بمناسبه ساره بتاعه الاوليمبياد 😃      0\n",
       "10063    وعليك قبلنا يانجم النجوم ياعندليب الحب والاحساس      2\n",
       "10064  AlHamad يطلع ننهم كل شي سيء ووضيع كل خساسه الع...      1\n",
       "\n",
       "[10065 rows x 2 columns]"
      ]
     },
     "execution_count": 8,
     "metadata": {},
     "output_type": "execute_result"
    }
   ],
   "source": [
    "#Structuring data\n",
    "df_emotions_arabic = pd.DataFrame()\n",
    "df_emotions_arabic['tweet'] = emotions_ar_train['tweet']\n",
    "df_emotions_arabic['label'] = emotions_ar_train['label']\n",
    "df_emotions_arabic"
   ]
  },
  {
   "cell_type": "code",
   "execution_count": 13,
   "metadata": {},
   "outputs": [],
   "source": [
    "#Storing data\n",
    "df_emotions_arabic.to_excel ( 'Datasets/emtions_detection_datasets/text_emotion_egypt.xlsx' )"
   ]
  },
  {
   "cell_type": "markdown",
   "metadata": {},
   "source": [
    "### Translate an Emotions Dataset"
   ]
  },
  {
   "cell_type": "code",
   "execution_count": 2,
   "metadata": {},
   "outputs": [],
   "source": [
    "#Packages \n",
    "from transformers import pipeline \n",
    "import sentencepiece"
   ]
  },
  {
   "cell_type": "code",
   "execution_count": 3,
   "metadata": {},
   "outputs": [
    {
     "name": "stdout",
     "output_type": "stream",
     "text": [
      "WARNING:tensorflow:From d:\\Users\\chatbot_emotions_detection\\venv\\Lib\\site-packages\\tf_keras\\src\\losses.py:2976: The name tf.losses.sparse_softmax_cross_entropy is deprecated. Please use tf.compat.v1.losses.sparse_softmax_cross_entropy instead.\n",
      "\n"
     ]
    },
    {
     "name": "stderr",
     "output_type": "stream",
     "text": [
      "d:\\Users\\chatbot_emotions_detection\\venv\\Lib\\site-packages\\transformers\\models\\marian\\tokenization_marian.py:197: UserWarning: Recommended: pip install sacremoses.\n",
      "  warnings.warn(\"Recommended: pip install sacremoses.\")\n"
     ]
    }
   ],
   "source": [
    "#Pipeline translation and model\n",
    "#MODEL_NAME = \"Helsinki-NLP/opus-mt-en-ar\"          # BLUE = 14.0\n",
    "MODEL_NAME = \"Helsinki-NLP/opus-mt-tc-big-en-ar\"    #BLUE = 29.0\n",
    "#MODEL_NAME = 'marefa-nlp/marefa-mt-en-ar'          #BLUE = ? \n",
    "translator = pipeline('translation', model= MODEL_NAME)"
   ]
  },
  {
   "cell_type": "code",
   "execution_count": 5,
   "metadata": {},
   "outputs": [
    {
     "data": {
      "text/plain": [
       "[{'translation_text': 'مرحبا، ما هي العاطفة وراء هذا النص: أنا سعيد ولكن في نفس الوقت حزين. أنا لا أفهم حقا مشاعري'}]"
      ]
     },
     "execution_count": 5,
     "metadata": {},
     "output_type": "execute_result"
    }
   ],
   "source": [
    "#Sample text for testing\n",
    "text = \"Hello, what is the emotion behind this text: I am happy but at same time sad. I dont realy understand my feelings \"\n",
    "\n",
    "translator ( text )"
   ]
  },
  {
   "cell_type": "markdown",
   "metadata": {},
   "source": [
    "The model works fine \n",
    "\n",
    "We will start applying it on our english data"
   ]
  },
  {
   "cell_type": "code",
   "execution_count": 6,
   "metadata": {},
   "outputs": [
    {
     "data": {
      "text/html": [
       "<div>\n",
       "<style scoped>\n",
       "    .dataframe tbody tr th:only-of-type {\n",
       "        vertical-align: middle;\n",
       "    }\n",
       "\n",
       "    .dataframe tbody tr th {\n",
       "        vertical-align: top;\n",
       "    }\n",
       "\n",
       "    .dataframe thead th {\n",
       "        text-align: right;\n",
       "    }\n",
       "</style>\n",
       "<table border=\"1\" class=\"dataframe\">\n",
       "  <thead>\n",
       "    <tr style=\"text-align: right;\">\n",
       "      <th></th>\n",
       "      <th>text</th>\n",
       "      <th>label</th>\n",
       "      <th>emotion</th>\n",
       "    </tr>\n",
       "  </thead>\n",
       "  <tbody>\n",
       "    <tr>\n",
       "      <th>0</th>\n",
       "      <td>i feel awful about it too because it s my job ...</td>\n",
       "      <td>0</td>\n",
       "      <td>sadness</td>\n",
       "    </tr>\n",
       "    <tr>\n",
       "      <th>1</th>\n",
       "      <td>im alone i feel awful</td>\n",
       "      <td>0</td>\n",
       "      <td>sadness</td>\n",
       "    </tr>\n",
       "    <tr>\n",
       "      <th>2</th>\n",
       "      <td>ive probably mentioned this before but i reall...</td>\n",
       "      <td>1</td>\n",
       "      <td>joy</td>\n",
       "    </tr>\n",
       "    <tr>\n",
       "      <th>3</th>\n",
       "      <td>i was feeling a little low few days back</td>\n",
       "      <td>0</td>\n",
       "      <td>sadness</td>\n",
       "    </tr>\n",
       "    <tr>\n",
       "      <th>4</th>\n",
       "      <td>i beleive that i am much more sensitive to oth...</td>\n",
       "      <td>2</td>\n",
       "      <td>love</td>\n",
       "    </tr>\n",
       "    <tr>\n",
       "      <th>...</th>\n",
       "      <td>...</td>\n",
       "      <td>...</td>\n",
       "      <td>...</td>\n",
       "    </tr>\n",
       "    <tr>\n",
       "      <th>416804</th>\n",
       "      <td>that was what i felt when i was finally accept...</td>\n",
       "      <td>1</td>\n",
       "      <td>joy</td>\n",
       "    </tr>\n",
       "    <tr>\n",
       "      <th>416805</th>\n",
       "      <td>i take every day as it comes i m just focussin...</td>\n",
       "      <td>4</td>\n",
       "      <td>fear</td>\n",
       "    </tr>\n",
       "    <tr>\n",
       "      <th>416806</th>\n",
       "      <td>i just suddenly feel that everything was fake</td>\n",
       "      <td>0</td>\n",
       "      <td>sadness</td>\n",
       "    </tr>\n",
       "    <tr>\n",
       "      <th>416807</th>\n",
       "      <td>im feeling more eager than ever to claw back w...</td>\n",
       "      <td>1</td>\n",
       "      <td>joy</td>\n",
       "    </tr>\n",
       "    <tr>\n",
       "      <th>416808</th>\n",
       "      <td>i give you plenty of attention even when i fee...</td>\n",
       "      <td>0</td>\n",
       "      <td>sadness</td>\n",
       "    </tr>\n",
       "  </tbody>\n",
       "</table>\n",
       "<p>416809 rows × 3 columns</p>\n",
       "</div>"
      ],
      "text/plain": [
       "                                                     text  label  emotion\n",
       "0       i feel awful about it too because it s my job ...      0  sadness\n",
       "1                                   im alone i feel awful      0  sadness\n",
       "2       ive probably mentioned this before but i reall...      1      joy\n",
       "3                i was feeling a little low few days back      0  sadness\n",
       "4       i beleive that i am much more sensitive to oth...      2     love\n",
       "...                                                   ...    ...      ...\n",
       "416804  that was what i felt when i was finally accept...      1      joy\n",
       "416805  i take every day as it comes i m just focussin...      4     fear\n",
       "416806      i just suddenly feel that everything was fake      0  sadness\n",
       "416807  im feeling more eager than ever to claw back w...      1      joy\n",
       "416808  i give you plenty of attention even when i fee...      0  sadness\n",
       "\n",
       "[416809 rows x 3 columns]"
      ]
     },
     "execution_count": 6,
     "metadata": {},
     "output_type": "execute_result"
    }
   ],
   "source": [
    "#English data\n",
    "text_emotion_eng =  pd.read_excel ( 'D:/Users/chatbot_emotions_detection/Datasets/emtions_detection_datasets/02_text_emotion_eng_dair_ai_emotion.xlsx')\n",
    "text_emotion_eng"
   ]
  },
  {
   "cell_type": "code",
   "execution_count": 7,
   "metadata": {},
   "outputs": [
    {
     "data": {
      "text/plain": [
       "0         i feel awful about it too because it s my job ...\n",
       "1                                     im alone i feel awful\n",
       "2         ive probably mentioned this before but i reall...\n",
       "3                  i was feeling a little low few days back\n",
       "4         i beleive that i am much more sensitive to oth...\n",
       "                                ...                        \n",
       "416804    that was what i felt when i was finally accept...\n",
       "416805    i take every day as it comes i m just focussin...\n",
       "416806        i just suddenly feel that everything was fake\n",
       "416807    im feeling more eager than ever to claw back w...\n",
       "416808    i give you plenty of attention even when i fee...\n",
       "Name: text, Length: 416809, dtype: object"
      ]
     },
     "execution_count": 7,
     "metadata": {},
     "output_type": "execute_result"
    }
   ],
   "source": [
    "#Extracting english sentences \n",
    "content = text_emotion_eng ['text']\n",
    "content"
   ]
  },
  {
   "cell_type": "code",
   "execution_count": 29,
   "metadata": {},
   "outputs": [
    {
     "name": "stdout",
     "output_type": "stream",
     "text": [
      "Progress: 100.00%\r"
     ]
    }
   ],
   "source": [
    "#Méthode traduction phrase par phrase\n",
    "\"\"\"\n",
    "sentences = content[0: 50]\n",
    "total_sentences = len (sentences)\n",
    "processed_sentences = 0\n",
    "fr_sentences = []\n",
    "\n",
    "for sentence in sentences:\n",
    "    fr_sentences.append (translator ( sentence  ))\n",
    "    processed_sentences += 1\n",
    "    # Calculate the progress percentage\n",
    "    progress = processed_sentences / total_sentences * 100\n",
    "    # Display the progress\n",
    "    print(f\"Progress: {progress:.2f}%\", end=\"\\r\")\n",
    "    # Optionally, you can add some delay to simulate processing time\n",
    "    time.sleep(0.1)\n",
    "\"\"\""
   ]
  },
  {
   "cell_type": "markdown",
   "metadata": {},
   "source": [
    "La méthode traduction phrase après phrase prend 2 fois plus de temps que la méthode translate par batch.\n",
    "\n",
    "C'est pourquoi nous allons procédé par la méthode batch\n",
    "\n",
    "This méthod should be repeated as much as needed, starting from [0 - 1000] batch till 40,000"
   ]
  },
  {
   "cell_type": "code",
   "execution_count": 8,
   "metadata": {},
   "outputs": [],
   "source": [
    "#Defining translate_en_fr_emotion function that translate english batch of sentences to french.\n",
    "\n",
    "def translate_en_ar_emotion (batch, translator, sentiments):\n",
    "    \"\"\"\n",
    "    This function takes a batch of english sentences and translate them using translator then concatinate them\n",
    "    with corresponding sentiments from text_emotion_eng dataset.\n",
    "    \"\"\"\n",
    "    # transfoming df columns to a list of items\n",
    "    batch = batch.to_list()\n",
    "    sentiments = sentiments.to_list()\n",
    "    \n",
    "    #translating the batch\n",
    "    fr_batch = translator(batch)\n",
    "    #Transform sentences to a list \n",
    "    sentences = []\n",
    "    for i in range (len(fr_batch)):\n",
    "        sentences.append (fr_batch[i]['translation_text'])\n",
    "    sentences\n",
    "    #Concatinating translated sentences with their corresponding sentiments\n",
    "    text_emotion_french = pd.DataFrame()\n",
    "    text_emotion_french['texte'] = sentences\n",
    "    text_emotion_french['emotion'] = sentiments\n",
    "\n",
    "    return text_emotion_french"
   ]
  },
  {
   "cell_type": "code",
   "execution_count": 30,
   "metadata": {},
   "outputs": [],
   "source": [
    "#Translating the first batch\n",
    "start = 0\n",
    "end = 500\n",
    "batch0000_500= translate_en_ar_emotion ( content [start: end], translator, text_emotion_eng['emotion'][start: end]  )"
   ]
  },
  {
   "cell_type": "code",
   "execution_count": 36,
   "metadata": {},
   "outputs": [],
   "source": [
    "#Translating the first batch\n",
    "start = 500\n",
    "end = 1000\n",
    "batch500_1000= translate_en_ar_emotion ( content [start: end], translator, text_emotion_eng['emotion'][start: end]  )"
   ]
  },
  {
   "cell_type": "code",
   "execution_count": 37,
   "metadata": {},
   "outputs": [],
   "source": [
    "#Translating the first batch\n",
    "start = 1000\n",
    "end = 2000\n",
    "batch1000_2000= translate_en_ar_emotion ( content [start: end], translator, text_emotion_eng['emotion'][start: end]  )"
   ]
  },
  {
   "cell_type": "code",
   "execution_count": 45,
   "metadata": {},
   "outputs": [],
   "source": [
    "#Translating the first batch\n",
    "start = 2000\n",
    "end = 3000\n",
    "batch2000_3000= translate_en_ar_emotion ( content [start: end], translator, text_emotion_eng['emotion'][start: end]  )"
   ]
  },
  {
   "cell_type": "code",
   "execution_count": 39,
   "metadata": {},
   "outputs": [],
   "source": [
    "#Translating the first batch\n",
    "start = 3000\n",
    "end = 4000\n",
    "batch3000_4000= translate_en_ar_emotion ( content [start: end], translator, text_emotion_eng['emotion'][start: end]  )"
   ]
  },
  {
   "cell_type": "code",
   "execution_count": 52,
   "metadata": {},
   "outputs": [],
   "source": [
    "#Translating the first batch\n",
    "start = 5000\n",
    "end = 6000\n",
    "batch5000_6000= translate_en_ar_emotion ( content [start: end], translator, text_emotion_eng['emotion'][start: end]  )"
   ]
  },
  {
   "cell_type": "code",
   "execution_count": 57,
   "metadata": {},
   "outputs": [],
   "source": [
    "#Translating the first batch\n",
    "start = 6000\n",
    "end = 8000\n",
    "batch6000_8000= translate_en_ar_emotion ( content [start: end], translator, text_emotion_eng['emotion'][start: end]  )"
   ]
  },
  {
   "cell_type": "code",
   "execution_count": 54,
   "metadata": {},
   "outputs": [],
   "source": [
    "#Translating the first batch\n",
    "start = 8000\n",
    "end = 10000\n",
    "batch8000_10000= translate_en_ar_emotion ( content [start: end], translator, text_emotion_eng['emotion'][start: end]  )"
   ]
  },
  {
   "cell_type": "code",
   "execution_count": 55,
   "metadata": {},
   "outputs": [
    {
     "data": {
      "text/html": [
       "<div>\n",
       "<style scoped>\n",
       "    .dataframe tbody tr th:only-of-type {\n",
       "        vertical-align: middle;\n",
       "    }\n",
       "\n",
       "    .dataframe tbody tr th {\n",
       "        vertical-align: top;\n",
       "    }\n",
       "\n",
       "    .dataframe thead th {\n",
       "        text-align: right;\n",
       "    }\n",
       "</style>\n",
       "<table border=\"1\" class=\"dataframe\">\n",
       "  <thead>\n",
       "    <tr style=\"text-align: right;\">\n",
       "      <th></th>\n",
       "      <th>texte</th>\n",
       "      <th>emotion</th>\n",
       "    </tr>\n",
       "  </thead>\n",
       "  <tbody>\n",
       "    <tr>\n",
       "      <th>0</th>\n",
       "      <td>أشعر بالسوء حيال ذلك أيضًا لأن وظيفتي هي جعله ...</td>\n",
       "      <td>sadness</td>\n",
       "    </tr>\n",
       "    <tr>\n",
       "      <th>1</th>\n",
       "      <td>أنا وحدي أشعر بفظاعة</td>\n",
       "      <td>sadness</td>\n",
       "    </tr>\n",
       "    <tr>\n",
       "      <th>2</th>\n",
       "      <td>ربما ذكرت هذا من قبل ولكن أنا حقا لا أشعر بالف...</td>\n",
       "      <td>joy</td>\n",
       "    </tr>\n",
       "    <tr>\n",
       "      <th>3</th>\n",
       "      <td>كنت أشعر قليلا منخفضة بضعة أيام إلى الوراء</td>\n",
       "      <td>sadness</td>\n",
       "    </tr>\n",
       "    <tr>\n",
       "      <th>4</th>\n",
       "      <td>أنا أؤمن بأنني أكثر حساسية لمشاعر الشعوب الأخر...</td>\n",
       "      <td>love</td>\n",
       "    </tr>\n",
       "    <tr>\n",
       "      <th>...</th>\n",
       "      <td>...</td>\n",
       "      <td>...</td>\n",
       "    </tr>\n",
       "    <tr>\n",
       "      <th>7995</th>\n",
       "      <td>أنا خائف وأشعر بالحرج وفي بعض الأحيان حتى الاك...</td>\n",
       "      <td>sadness</td>\n",
       "    </tr>\n",
       "    <tr>\n",
       "      <th>7996</th>\n",
       "      <td>كنت في أدنى وزني الوزن الذي ترك لي الشعور بالب...</td>\n",
       "      <td>anger</td>\n",
       "    </tr>\n",
       "    <tr>\n",
       "      <th>7997</th>\n",
       "      <td>أشعر أنه يجب أن تكون في حياتي ما زلت أشك في ذلك</td>\n",
       "      <td>fear</td>\n",
       "    </tr>\n",
       "    <tr>\n",
       "      <th>7998</th>\n",
       "      <td>شربت القهوة مع صديق كاتب قبل أسبوعين من صديق ي...</td>\n",
       "      <td>anger</td>\n",
       "    </tr>\n",
       "    <tr>\n",
       "      <th>7999</th>\n",
       "      <td>نزلت مع ارتفاع في درجة الحرارة يوم الأربعاء ال...</td>\n",
       "      <td>sadness</td>\n",
       "    </tr>\n",
       "  </tbody>\n",
       "</table>\n",
       "<p>8000 rows × 2 columns</p>\n",
       "</div>"
      ],
      "text/plain": [
       "                                                  texte  emotion\n",
       "0     أشعر بالسوء حيال ذلك أيضًا لأن وظيفتي هي جعله ...  sadness\n",
       "1                                  أنا وحدي أشعر بفظاعة  sadness\n",
       "2     ربما ذكرت هذا من قبل ولكن أنا حقا لا أشعر بالف...      joy\n",
       "3            كنت أشعر قليلا منخفضة بضعة أيام إلى الوراء  sadness\n",
       "4     أنا أؤمن بأنني أكثر حساسية لمشاعر الشعوب الأخر...     love\n",
       "...                                                 ...      ...\n",
       "7995  أنا خائف وأشعر بالحرج وفي بعض الأحيان حتى الاك...  sadness\n",
       "7996  كنت في أدنى وزني الوزن الذي ترك لي الشعور بالب...    anger\n",
       "7997    أشعر أنه يجب أن تكون في حياتي ما زلت أشك في ذلك     fear\n",
       "7998  شربت القهوة مع صديق كاتب قبل أسبوعين من صديق ي...    anger\n",
       "7999  نزلت مع ارتفاع في درجة الحرارة يوم الأربعاء ال...  sadness\n",
       "\n",
       "[8000 rows x 2 columns]"
      ]
     },
     "execution_count": 55,
     "metadata": {},
     "output_type": "execute_result"
    }
   ],
   "source": [
    "#Concatinating data\n",
    "batch0000_10000 = pd.concat ( [ batch0000_500, batch500_1000, batch1000_2000, batch2000_3000, batch3000_4000, batch4000_5000, batch5000_6000, batch8000_10000 ] )\n",
    "batch0000_10000.reset_index ( drop = True, inplace= True )\n",
    "batch0000_10000"
   ]
  },
  {
   "cell_type": "code",
   "execution_count": 56,
   "metadata": {},
   "outputs": [],
   "source": [
    "#Saving the batch\n",
    "batch0000_10000.to_excel ( \"D:/Users/chatbot_emotions_detection/Datasets/emtions_detection_datasets/text_emotion_arabic_batches/batch0000_10000.xlsx\" )"
   ]
  },
  {
   "cell_type": "code",
   "execution_count": 11,
   "metadata": {},
   "outputs": [],
   "source": [
    "#Translating the first batch\n",
    "start = 0\n",
    "end = 5000\n",
    "fr_batch0000_5000= translate_en_fr_emotion ( content [start: end], translator, text_emotion_eng['emotion'][start: end]  )"
   ]
  },
  {
   "cell_type": "code",
   "execution_count": 34,
   "metadata": {},
   "outputs": [],
   "source": [
    "#storing\n",
    "#fr_batch0000_5000.to_excel ('D:/Users/chatbot_emotions_detection/Datasets/emtions_detection_datasets/text_emotion_french_batches/fr_batch_0000_5000.xlsx')"
   ]
  },
  {
   "cell_type": "code",
   "execution_count": 9,
   "metadata": {},
   "outputs": [],
   "source": [
    "#Translating batches\n",
    "start = 5000\n",
    "end = 7000\n",
    "fr_batch5000_7000= translate_en_fr_emotion ( content [start: end], translator, text_emotion_eng['emotion'][start: end]  )"
   ]
  },
  {
   "cell_type": "code",
   "execution_count": 12,
   "metadata": {},
   "outputs": [],
   "source": [
    "#Storing the data\n",
    "fr_batch5000_7000.to_excel ('D:/Users/chatbot_emotions_detection/Datasets/emtions_detection_datasets/text_emotion_french_batches/fr_batch_5000_7000.xlsx')"
   ]
  },
  {
   "cell_type": "code",
   "execution_count": null,
   "metadata": {},
   "outputs": [],
   "source": [
    "#Translating batches\n",
    "start = 7000\n",
    "end = 10000\n",
    "fr_batch7000_10000= translate_en_fr_emotion ( content [start: end], translator, text_emotion_eng['emotion'][start: end]  )"
   ]
  },
  {
   "cell_type": "code",
   "execution_count": 108,
   "metadata": {},
   "outputs": [],
   "source": [
    "#Translating batches\n",
    "start = 15000\n",
    "end = 20000\n",
    "fr_batch15000_20000= translate_en_fr_emotion ( content [start: end], translator, text_emotion_eng['sentiment'][start: end]  )"
   ]
  },
  {
   "cell_type": "code",
   "execution_count": 110,
   "metadata": {},
   "outputs": [],
   "source": [
    "#Translating batches\n",
    "start = 20000\n",
    "end = 25000\n",
    "fr_batch20000_25000= translate_en_fr_emotion ( content [start: end], translator, text_emotion_eng['sentiment'][start: end]  )"
   ]
  },
  {
   "cell_type": "code",
   "execution_count": 118,
   "metadata": {},
   "outputs": [],
   "source": [
    "#Translating batches\n",
    "start = 25000\n",
    "end = 30000\n",
    "fr_batch25000_30000= translate_en_fr_emotion ( content [start: end], translator, text_emotion_eng['sentiment'][start: end]  )"
   ]
  },
  {
   "cell_type": "code",
   "execution_count": 115,
   "metadata": {},
   "outputs": [],
   "source": [
    "#Concatinating the batches in one dataset\n",
    "fr_batch0000_30000 = pd.concat ([ fr_batch0000_5000, fr_batch5000_10000, fr_batch10000_15000, fr_batch15000_20000, fr_batch20000_25000, fr_batch25000_30000])"
   ]
  },
  {
   "cell_type": "code",
   "execution_count": 125,
   "metadata": {},
   "outputs": [],
   "source": [
    "#Storing the data\n",
    "fr_batch0000_30000.to_excel ('Datasets/emtions_detection_datasets/text_emotion_french_batches/fr_batch_0000_30000.xlsx')"
   ]
  },
  {
   "cell_type": "code",
   "execution_count": 139,
   "metadata": {},
   "outputs": [],
   "source": [
    "#Storing data in the main folder\n",
    "fr_batch0000_30000.to_excel ('Datasets/emtions_detection_datasets/text_emotion_french.xlsx', index = False)"
   ]
  },
  {
   "cell_type": "markdown",
   "metadata": {},
   "source": [
    "### English dataset "
   ]
  },
  {
   "cell_type": "code",
   "execution_count": 5,
   "metadata": {},
   "outputs": [
    {
     "data": {
      "text/html": [
       "<div>\n",
       "<style scoped>\n",
       "    .dataframe tbody tr th:only-of-type {\n",
       "        vertical-align: middle;\n",
       "    }\n",
       "\n",
       "    .dataframe tbody tr th {\n",
       "        vertical-align: top;\n",
       "    }\n",
       "\n",
       "    .dataframe thead th {\n",
       "        text-align: right;\n",
       "    }\n",
       "</style>\n",
       "<table border=\"1\" class=\"dataframe\">\n",
       "  <thead>\n",
       "    <tr style=\"text-align: right;\">\n",
       "      <th></th>\n",
       "      <th>text</th>\n",
       "      <th>label</th>\n",
       "    </tr>\n",
       "  </thead>\n",
       "  <tbody>\n",
       "    <tr>\n",
       "      <th>0</th>\n",
       "      <td>i feel awful about it too because it s my job ...</td>\n",
       "      <td>0</td>\n",
       "    </tr>\n",
       "    <tr>\n",
       "      <th>1</th>\n",
       "      <td>im alone i feel awful</td>\n",
       "      <td>0</td>\n",
       "    </tr>\n",
       "    <tr>\n",
       "      <th>2</th>\n",
       "      <td>ive probably mentioned this before but i reall...</td>\n",
       "      <td>1</td>\n",
       "    </tr>\n",
       "    <tr>\n",
       "      <th>3</th>\n",
       "      <td>i was feeling a little low few days back</td>\n",
       "      <td>0</td>\n",
       "    </tr>\n",
       "    <tr>\n",
       "      <th>4</th>\n",
       "      <td>i beleive that i am much more sensitive to oth...</td>\n",
       "      <td>2</td>\n",
       "    </tr>\n",
       "    <tr>\n",
       "      <th>...</th>\n",
       "      <td>...</td>\n",
       "      <td>...</td>\n",
       "    </tr>\n",
       "    <tr>\n",
       "      <th>416804</th>\n",
       "      <td>that was what i felt when i was finally accept...</td>\n",
       "      <td>1</td>\n",
       "    </tr>\n",
       "    <tr>\n",
       "      <th>416805</th>\n",
       "      <td>i take every day as it comes i m just focussin...</td>\n",
       "      <td>4</td>\n",
       "    </tr>\n",
       "    <tr>\n",
       "      <th>416806</th>\n",
       "      <td>i just suddenly feel that everything was fake</td>\n",
       "      <td>0</td>\n",
       "    </tr>\n",
       "    <tr>\n",
       "      <th>416807</th>\n",
       "      <td>im feeling more eager than ever to claw back w...</td>\n",
       "      <td>1</td>\n",
       "    </tr>\n",
       "    <tr>\n",
       "      <th>416808</th>\n",
       "      <td>i give you plenty of attention even when i fee...</td>\n",
       "      <td>0</td>\n",
       "    </tr>\n",
       "  </tbody>\n",
       "</table>\n",
       "<p>416809 rows × 2 columns</p>\n",
       "</div>"
      ],
      "text/plain": [
       "                                                     text  label\n",
       "0       i feel awful about it too because it s my job ...      0\n",
       "1                                   im alone i feel awful      0\n",
       "2       ive probably mentioned this before but i reall...      1\n",
       "3                i was feeling a little low few days back      0\n",
       "4       i beleive that i am much more sensitive to oth...      2\n",
       "...                                                   ...    ...\n",
       "416804  that was what i felt when i was finally accept...      1\n",
       "416805  i take every day as it comes i m just focussin...      4\n",
       "416806      i just suddenly feel that everything was fake      0\n",
       "416807  im feeling more eager than ever to claw back w...      1\n",
       "416808  i give you plenty of attention even when i fee...      0\n",
       "\n",
       "[416809 rows x 2 columns]"
      ]
     },
     "execution_count": 5,
     "metadata": {},
     "output_type": "execute_result"
    }
   ],
   "source": [
    "#Importing data\n",
    "data = pd.read_json ( 'D:/Users/chatbot_emotions_detection/Datasets/emtions_detection_datasets/text_emotion_eng_2_go_emotion.jsonl', lines = True )\n",
    "data"
   ]
  },
  {
   "cell_type": "markdown",
   "metadata": {},
   "source": [
    "Labels : sadness (0), joy (1), love (2), anger (3), fear (4), surprise (5)."
   ]
  },
  {
   "cell_type": "markdown",
   "metadata": {},
   "source": [
    "Adding the correspondant emotion to data"
   ]
  },
  {
   "cell_type": "code",
   "execution_count": 7,
   "metadata": {},
   "outputs": [
    {
     "data": {
      "text/plain": [
       "{0: 'sadness', 1: 'joy', 2: 'love', 3: 'anger', 4: 'fear', 5: 'surprise'}"
      ]
     },
     "execution_count": 7,
     "metadata": {},
     "output_type": "execute_result"
    }
   ],
   "source": [
    "#emotion mapping\n",
    "emotion_mapping = {0: 'sadness',1: 'joy', 2:'love', 3: 'anger', 4: 'fear', 5: 'surprise' }\n",
    "emotion_mapping\n"
   ]
  },
  {
   "cell_type": "code",
   "execution_count": 8,
   "metadata": {},
   "outputs": [],
   "source": [
    "#Getting emotion form label\n",
    "emotions = []\n",
    "for label in data['label']:\n",
    "    emotions.append(emotion_mapping [label])"
   ]
  },
  {
   "cell_type": "code",
   "execution_count": 10,
   "metadata": {},
   "outputs": [
    {
     "data": {
      "text/plain": [
       "416809"
      ]
     },
     "execution_count": 10,
     "metadata": {},
     "output_type": "execute_result"
    }
   ],
   "source": [
    "len (emotions)"
   ]
  },
  {
   "cell_type": "code",
   "execution_count": 11,
   "metadata": {},
   "outputs": [
    {
     "data": {
      "text/html": [
       "<div>\n",
       "<style scoped>\n",
       "    .dataframe tbody tr th:only-of-type {\n",
       "        vertical-align: middle;\n",
       "    }\n",
       "\n",
       "    .dataframe tbody tr th {\n",
       "        vertical-align: top;\n",
       "    }\n",
       "\n",
       "    .dataframe thead th {\n",
       "        text-align: right;\n",
       "    }\n",
       "</style>\n",
       "<table border=\"1\" class=\"dataframe\">\n",
       "  <thead>\n",
       "    <tr style=\"text-align: right;\">\n",
       "      <th></th>\n",
       "      <th>text</th>\n",
       "      <th>label</th>\n",
       "      <th>emotion</th>\n",
       "    </tr>\n",
       "  </thead>\n",
       "  <tbody>\n",
       "    <tr>\n",
       "      <th>0</th>\n",
       "      <td>i feel awful about it too because it s my job ...</td>\n",
       "      <td>0</td>\n",
       "      <td>sadness</td>\n",
       "    </tr>\n",
       "    <tr>\n",
       "      <th>1</th>\n",
       "      <td>im alone i feel awful</td>\n",
       "      <td>0</td>\n",
       "      <td>sadness</td>\n",
       "    </tr>\n",
       "    <tr>\n",
       "      <th>2</th>\n",
       "      <td>ive probably mentioned this before but i reall...</td>\n",
       "      <td>1</td>\n",
       "      <td>joy</td>\n",
       "    </tr>\n",
       "    <tr>\n",
       "      <th>3</th>\n",
       "      <td>i was feeling a little low few days back</td>\n",
       "      <td>0</td>\n",
       "      <td>sadness</td>\n",
       "    </tr>\n",
       "    <tr>\n",
       "      <th>4</th>\n",
       "      <td>i beleive that i am much more sensitive to oth...</td>\n",
       "      <td>2</td>\n",
       "      <td>love</td>\n",
       "    </tr>\n",
       "    <tr>\n",
       "      <th>...</th>\n",
       "      <td>...</td>\n",
       "      <td>...</td>\n",
       "      <td>...</td>\n",
       "    </tr>\n",
       "    <tr>\n",
       "      <th>416804</th>\n",
       "      <td>that was what i felt when i was finally accept...</td>\n",
       "      <td>1</td>\n",
       "      <td>joy</td>\n",
       "    </tr>\n",
       "    <tr>\n",
       "      <th>416805</th>\n",
       "      <td>i take every day as it comes i m just focussin...</td>\n",
       "      <td>4</td>\n",
       "      <td>fear</td>\n",
       "    </tr>\n",
       "    <tr>\n",
       "      <th>416806</th>\n",
       "      <td>i just suddenly feel that everything was fake</td>\n",
       "      <td>0</td>\n",
       "      <td>sadness</td>\n",
       "    </tr>\n",
       "    <tr>\n",
       "      <th>416807</th>\n",
       "      <td>im feeling more eager than ever to claw back w...</td>\n",
       "      <td>1</td>\n",
       "      <td>joy</td>\n",
       "    </tr>\n",
       "    <tr>\n",
       "      <th>416808</th>\n",
       "      <td>i give you plenty of attention even when i fee...</td>\n",
       "      <td>0</td>\n",
       "      <td>sadness</td>\n",
       "    </tr>\n",
       "  </tbody>\n",
       "</table>\n",
       "<p>416809 rows × 3 columns</p>\n",
       "</div>"
      ],
      "text/plain": [
       "                                                     text  label  emotion\n",
       "0       i feel awful about it too because it s my job ...      0  sadness\n",
       "1                                   im alone i feel awful      0  sadness\n",
       "2       ive probably mentioned this before but i reall...      1      joy\n",
       "3                i was feeling a little low few days back      0  sadness\n",
       "4       i beleive that i am much more sensitive to oth...      2     love\n",
       "...                                                   ...    ...      ...\n",
       "416804  that was what i felt when i was finally accept...      1      joy\n",
       "416805  i take every day as it comes i m just focussin...      4     fear\n",
       "416806      i just suddenly feel that everything was fake      0  sadness\n",
       "416807  im feeling more eager than ever to claw back w...      1      joy\n",
       "416808  i give you plenty of attention even when i fee...      0  sadness\n",
       "\n",
       "[416809 rows x 3 columns]"
      ]
     },
     "execution_count": 11,
     "metadata": {},
     "output_type": "execute_result"
    }
   ],
   "source": [
    "# addind emotions to data\n",
    "data['emotion'] = emotions\n",
    "data"
   ]
  },
  {
   "cell_type": "code",
   "execution_count": 12,
   "metadata": {},
   "outputs": [],
   "source": [
    "#Saving the data\n",
    "#data.to_excel ( 'D:/Users/chatbot_emotions_detection/Datasets/emtions_detection_datasets/text_emotion_eng_2_go_emotion.xlsx', index = False )"
   ]
  }
 ],
 "metadata": {
  "kernelspec": {
   "display_name": "venv",
   "language": "python",
   "name": "python3"
  },
  "language_info": {
   "codemirror_mode": {
    "name": "ipython",
    "version": 3
   },
   "file_extension": ".py",
   "mimetype": "text/x-python",
   "name": "python",
   "nbconvert_exporter": "python",
   "pygments_lexer": "ipython3",
   "version": "3.12.2"
  }
 },
 "nbformat": 4,
 "nbformat_minor": 2
}
