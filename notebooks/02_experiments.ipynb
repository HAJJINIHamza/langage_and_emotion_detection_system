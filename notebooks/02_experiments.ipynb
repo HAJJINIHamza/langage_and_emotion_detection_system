{
  "cells": [
    {
      "cell_type": "markdown",
      "metadata": {
        "id": "kEUO7-JRbujr"
      },
      "source": [
        "# Experiments II\n",
        "In this notebook we will start applying models on our emotion-detection data."
      ]
    },
    {
      "cell_type": "markdown",
      "metadata": {
        "id": "KMUKLf3hbujs"
      },
      "source": [
        "packages"
      ]
    },
    {
      "cell_type": "code",
      "execution_count": 28,
      "metadata": {
        "id": "sW5A4heObujs"
      },
      "outputs": [],
      "source": [
        "import pandas as pd\n",
        "import numpy as np\n",
        "import matplotlib.pyplot as plt\n",
        "import seaborn\n",
        "import plotly.express as px\n",
        "import nltk\n",
        "from sklearn.utils import shuffle\n",
        "from sklearn.model_selection import train_test_split\n",
        "from sklearn.metrics import accuracy_score, f1_score, confusion_matrix, precision_score, recall_score\n",
        "import tensorflow as tf"
      ]
    },
    {
      "cell_type": "markdown",
      "metadata": {
        "id": "nG1n3TPrbujt"
      },
      "source": [
        "data"
      ]
    },
    {
      "cell_type": "code",
      "execution_count": 29,
      "metadata": {
        "id": "89y8AhuFbujt"
      },
      "outputs": [
        {
          "data": {
            "text/html": [
              "<div>\n",
              "<style scoped>\n",
              "    .dataframe tbody tr th:only-of-type {\n",
              "        vertical-align: middle;\n",
              "    }\n",
              "\n",
              "    .dataframe tbody tr th {\n",
              "        vertical-align: top;\n",
              "    }\n",
              "\n",
              "    .dataframe thead th {\n",
              "        text-align: right;\n",
              "    }\n",
              "</style>\n",
              "<table border=\"1\" class=\"dataframe\">\n",
              "  <thead>\n",
              "    <tr style=\"text-align: right;\">\n",
              "      <th></th>\n",
              "      <th>text</th>\n",
              "      <th>emotion</th>\n",
              "      <th>language</th>\n",
              "    </tr>\n",
              "  </thead>\n",
              "  <tbody>\n",
              "    <tr>\n",
              "      <th>0</th>\n",
              "      <td>الاوليمبياد الجايه هكون لسه ف الكليه ..</td>\n",
              "      <td>none</td>\n",
              "      <td>egy</td>\n",
              "    </tr>\n",
              "    <tr>\n",
              "      <th>1</th>\n",
              "      <td>عجز الموازنه وصل ل93.7 % من الناتج المحلي يعني...</td>\n",
              "      <td>anger</td>\n",
              "      <td>egy</td>\n",
              "    </tr>\n",
              "    <tr>\n",
              "      <th>2</th>\n",
              "      <td>كتنا نيله ف حظنا الهباب xD</td>\n",
              "      <td>sadness</td>\n",
              "      <td>egy</td>\n",
              "    </tr>\n",
              "    <tr>\n",
              "      <th>3</th>\n",
              "      <td>جميعنا نريد تحقيق اهدافنا لكن تونس تالقت في حر...</td>\n",
              "      <td>joy</td>\n",
              "      <td>egy</td>\n",
              "    </tr>\n",
              "    <tr>\n",
              "      <th>4</th>\n",
              "      <td>الاوليمبياد نظامها مختلف .. ومواعيد المونديال ...</td>\n",
              "      <td>none</td>\n",
              "      <td>egy</td>\n",
              "    </tr>\n",
              "    <tr>\n",
              "      <th>...</th>\n",
              "      <td>...</td>\n",
              "      <td>...</td>\n",
              "      <td>...</td>\n",
              "    </tr>\n",
              "    <tr>\n",
              "      <th>454301</th>\n",
              "      <td>كيف يمكن لهذه الأمور أن تتغير فجأة وبدون سابق ...</td>\n",
              "      <td>surprised</td>\n",
              "      <td>arb_classic</td>\n",
              "    </tr>\n",
              "    <tr>\n",
              "      <th>454302</th>\n",
              "      <td>كانت المفاجأة كبيرة جداً ولم أتمكن من استيعابه...</td>\n",
              "      <td>surprised</td>\n",
              "      <td>arb_classic</td>\n",
              "    </tr>\n",
              "    <tr>\n",
              "      <th>454303</th>\n",
              "      <td>لم أكن أتوقع هذا التغيير السريع في الأحداث.</td>\n",
              "      <td>surprised</td>\n",
              "      <td>arb_classic</td>\n",
              "    </tr>\n",
              "    <tr>\n",
              "      <th>454304</th>\n",
              "      <td>شعرت بالدهشة الكبيرة عندما رأيت النتيجة المفاجئة.</td>\n",
              "      <td>surprised</td>\n",
              "      <td>arb_classic</td>\n",
              "    </tr>\n",
              "    <tr>\n",
              "      <th>454305</th>\n",
              "      <td>لم أستطع التفاعل فوراً بسبب المفاجأة الكبيرة.</td>\n",
              "      <td>surprised</td>\n",
              "      <td>arb_classic</td>\n",
              "    </tr>\n",
              "  </tbody>\n",
              "</table>\n",
              "<p>454306 rows × 3 columns</p>\n",
              "</div>"
            ],
            "text/plain": [
              "                                                     text    emotion  \\\n",
              "0                 الاوليمبياد الجايه هكون لسه ف الكليه ..       none   \n",
              "1       عجز الموازنه وصل ل93.7 % من الناتج المحلي يعني...      anger   \n",
              "2                              كتنا نيله ف حظنا الهباب xD    sadness   \n",
              "3       جميعنا نريد تحقيق اهدافنا لكن تونس تالقت في حر...        joy   \n",
              "4       الاوليمبياد نظامها مختلف .. ومواعيد المونديال ...       none   \n",
              "...                                                   ...        ...   \n",
              "454301  كيف يمكن لهذه الأمور أن تتغير فجأة وبدون سابق ...  surprised   \n",
              "454302  كانت المفاجأة كبيرة جداً ولم أتمكن من استيعابه...  surprised   \n",
              "454303        لم أكن أتوقع هذا التغيير السريع في الأحداث.  surprised   \n",
              "454304  شعرت بالدهشة الكبيرة عندما رأيت النتيجة المفاجئة.  surprised   \n",
              "454305      لم أستطع التفاعل فوراً بسبب المفاجأة الكبيرة.  surprised   \n",
              "\n",
              "           language  \n",
              "0               egy  \n",
              "1               egy  \n",
              "2               egy  \n",
              "3               egy  \n",
              "4               egy  \n",
              "...             ...  \n",
              "454301  arb_classic  \n",
              "454302  arb_classic  \n",
              "454303  arb_classic  \n",
              "454304  arb_classic  \n",
              "454305  arb_classic  \n",
              "\n",
              "[454306 rows x 3 columns]"
            ]
          },
          "execution_count": 29,
          "metadata": {},
          "output_type": "execute_result"
        }
      ],
      "source": [
        "#Importing data\n",
        "data = pd.read_excel ( '../Datasets/emotions_detection_datasets/02_final_data.xlsx' )\n",
        "#data.drop (columns = ['Unnamed: 0'], inplace = True)\n",
        "data"
      ]
    },
    {
      "cell_type": "markdown",
      "metadata": {
        "id": "R2jsw7D8bujt"
      },
      "source": [
        "Exploratory Data Analysis"
      ]
    },
    {
      "cell_type": "code",
      "execution_count": 30,
      "metadata": {
        "colab": {
          "base_uri": "https://localhost:8080/"
        },
        "id": "0y_9uVl-bujt",
        "outputId": "1562d9e0-06ed-4dc3-d79f-ff2e880aac27"
      },
      "outputs": [
        {
          "name": "stdout",
          "output_type": "stream",
          "text": [
            "number of rows 454306\n"
          ]
        }
      ],
      "source": [
        "print ('number of rows', data.shape[0])"
      ]
    },
    {
      "cell_type": "code",
      "execution_count": 31,
      "metadata": {
        "colab": {
          "base_uri": "https://localhost:8080/"
        },
        "id": "W9slLnMObuju",
        "outputId": "195b46b2-dd54-4080-daa1-70d68a2c8c8a"
      },
      "outputs": [
        {
          "name": "stdout",
          "output_type": "stream",
          "text": [
            "number of rows per language\n"
          ]
        },
        {
          "data": {
            "text/plain": [
              "language\n",
              "eng            416809\n",
              "egy             10065\n",
              "arb-trans        8000\n",
              "arb              6369\n",
              "fr               5000\n",
              "ar               4582\n",
              "alg-latin        2400\n",
              "arb_classic      1081\n",
              "Name: count, dtype: int64"
            ]
          },
          "execution_count": 31,
          "metadata": {},
          "output_type": "execute_result"
        }
      ],
      "source": [
        "#Languages\n",
        "print ('number of rows per language')\n",
        "data['language'].value_counts()"
      ]
    },
    {
      "cell_type": "code",
      "execution_count": 32,
      "metadata": {
        "colab": {
          "base_uri": "https://localhost:8080/"
        },
        "id": "zb0JmGcfbuju",
        "outputId": "dcce1049-001c-437d-c287-9d09edcf9d53"
      },
      "outputs": [
        {
          "name": "stdout",
          "output_type": "stream",
          "text": [
            "number of rows per emotion\n"
          ]
        },
        {
          "data": {
            "text/plain": [
              "emotion\n",
              "joy             146674\n",
              "sadness         126615\n",
              "anger            60741\n",
              "fear             51456\n",
              "love             37048\n",
              "surprise         16698\n",
              "sad               2200\n",
              "angry             2177\n",
              "happy             1816\n",
              "none              1550\n",
              "sympathy          1062\n",
              "hapiness           966\n",
              "Neutral            925\n",
              "Angry              469\n",
              "neutral            390\n",
              "surprised          290\n",
              "Laughing           275\n",
              "trust              252\n",
              "disgust            213\n",
              "Wondering          207\n",
              "Surprised          193\n",
              "Sad                187\n",
              "Happy              144\n",
              "anticipation        12\n",
              "Name: count, dtype: int64"
            ]
          },
          "execution_count": 32,
          "metadata": {},
          "output_type": "execute_result"
        }
      ],
      "source": [
        "#Emotions\n",
        "print ('number of rows per emotion')\n",
        "data['emotion'].value_counts()"
      ]
    },
    {
      "cell_type": "markdown",
      "metadata": {
        "id": "gkUR7Ihcbuju"
      },
      "source": [
        "In order to orgnise emotions in our data, and due to the limited number of rows for some emotions we are going to do the following modifications:\n",
        "\n",
        "[sadness = sad = Sad]\n",
        "\n",
        "[joy = happiness = fun = Laughing = Happy = love = enthusiasm = relief]\n",
        "\n",
        "[none = neutral = Neutral = boredom = empty = sympathy = wondering]\n",
        "\n",
        "[Angry = anger = hate]\n",
        "\n",
        "[Surprised = surprise]\n",
        "\n",
        "[worry = fear]\n",
        "\n",
        "[s, lov, lo, j] to be deleted"
      ]
    },
    {
      "cell_type": "code",
      "execution_count": 33,
      "metadata": {
        "colab": {
          "base_uri": "https://localhost:8080/",
          "height": 423
        },
        "id": "EjoTbpyZbuju",
        "outputId": "f056e654-f83e-4167-b677-25763c5b1231"
      },
      "outputs": [
        {
          "data": {
            "text/html": [
              "<div>\n",
              "<style scoped>\n",
              "    .dataframe tbody tr th:only-of-type {\n",
              "        vertical-align: middle;\n",
              "    }\n",
              "\n",
              "    .dataframe tbody tr th {\n",
              "        vertical-align: top;\n",
              "    }\n",
              "\n",
              "    .dataframe thead th {\n",
              "        text-align: right;\n",
              "    }\n",
              "</style>\n",
              "<table border=\"1\" class=\"dataframe\">\n",
              "  <thead>\n",
              "    <tr style=\"text-align: right;\">\n",
              "      <th></th>\n",
              "      <th>text</th>\n",
              "      <th>emotion</th>\n",
              "      <th>language</th>\n",
              "    </tr>\n",
              "  </thead>\n",
              "  <tbody>\n",
              "    <tr>\n",
              "      <th>0</th>\n",
              "      <td>الاوليمبياد الجايه هكون لسه ف الكليه ..</td>\n",
              "      <td>none</td>\n",
              "      <td>egy</td>\n",
              "    </tr>\n",
              "    <tr>\n",
              "      <th>1</th>\n",
              "      <td>عجز الموازنه وصل ل93.7 % من الناتج المحلي يعني...</td>\n",
              "      <td>anger</td>\n",
              "      <td>egy</td>\n",
              "    </tr>\n",
              "    <tr>\n",
              "      <th>2</th>\n",
              "      <td>كتنا نيله ف حظنا الهباب xD</td>\n",
              "      <td>sadness</td>\n",
              "      <td>egy</td>\n",
              "    </tr>\n",
              "    <tr>\n",
              "      <th>3</th>\n",
              "      <td>جميعنا نريد تحقيق اهدافنا لكن تونس تالقت في حر...</td>\n",
              "      <td>joy</td>\n",
              "      <td>egy</td>\n",
              "    </tr>\n",
              "    <tr>\n",
              "      <th>4</th>\n",
              "      <td>الاوليمبياد نظامها مختلف .. ومواعيد المونديال ...</td>\n",
              "      <td>none</td>\n",
              "      <td>egy</td>\n",
              "    </tr>\n",
              "    <tr>\n",
              "      <th>...</th>\n",
              "      <td>...</td>\n",
              "      <td>...</td>\n",
              "      <td>...</td>\n",
              "    </tr>\n",
              "    <tr>\n",
              "      <th>454301</th>\n",
              "      <td>كيف يمكن لهذه الأمور أن تتغير فجأة وبدون سابق ...</td>\n",
              "      <td>surprised</td>\n",
              "      <td>arb_classic</td>\n",
              "    </tr>\n",
              "    <tr>\n",
              "      <th>454302</th>\n",
              "      <td>كانت المفاجأة كبيرة جداً ولم أتمكن من استيعابه...</td>\n",
              "      <td>surprised</td>\n",
              "      <td>arb_classic</td>\n",
              "    </tr>\n",
              "    <tr>\n",
              "      <th>454303</th>\n",
              "      <td>لم أكن أتوقع هذا التغيير السريع في الأحداث.</td>\n",
              "      <td>surprised</td>\n",
              "      <td>arb_classic</td>\n",
              "    </tr>\n",
              "    <tr>\n",
              "      <th>454304</th>\n",
              "      <td>شعرت بالدهشة الكبيرة عندما رأيت النتيجة المفاجئة.</td>\n",
              "      <td>surprised</td>\n",
              "      <td>arb_classic</td>\n",
              "    </tr>\n",
              "    <tr>\n",
              "      <th>454305</th>\n",
              "      <td>لم أستطع التفاعل فوراً بسبب المفاجأة الكبيرة.</td>\n",
              "      <td>surprised</td>\n",
              "      <td>arb_classic</td>\n",
              "    </tr>\n",
              "  </tbody>\n",
              "</table>\n",
              "<p>454306 rows × 3 columns</p>\n",
              "</div>"
            ],
            "text/plain": [
              "                                                     text    emotion  \\\n",
              "0                 الاوليمبياد الجايه هكون لسه ف الكليه ..       none   \n",
              "1       عجز الموازنه وصل ل93.7 % من الناتج المحلي يعني...      anger   \n",
              "2                              كتنا نيله ف حظنا الهباب xD    sadness   \n",
              "3       جميعنا نريد تحقيق اهدافنا لكن تونس تالقت في حر...        joy   \n",
              "4       الاوليمبياد نظامها مختلف .. ومواعيد المونديال ...       none   \n",
              "...                                                   ...        ...   \n",
              "454301  كيف يمكن لهذه الأمور أن تتغير فجأة وبدون سابق ...  surprised   \n",
              "454302  كانت المفاجأة كبيرة جداً ولم أتمكن من استيعابه...  surprised   \n",
              "454303        لم أكن أتوقع هذا التغيير السريع في الأحداث.  surprised   \n",
              "454304  شعرت بالدهشة الكبيرة عندما رأيت النتيجة المفاجئة.  surprised   \n",
              "454305      لم أستطع التفاعل فوراً بسبب المفاجأة الكبيرة.  surprised   \n",
              "\n",
              "           language  \n",
              "0               egy  \n",
              "1               egy  \n",
              "2               egy  \n",
              "3               egy  \n",
              "4               egy  \n",
              "...             ...  \n",
              "454301  arb_classic  \n",
              "454302  arb_classic  \n",
              "454303  arb_classic  \n",
              "454304  arb_classic  \n",
              "454305  arb_classic  \n",
              "\n",
              "[454306 rows x 3 columns]"
            ]
          },
          "execution_count": 33,
          "metadata": {},
          "output_type": "execute_result"
        }
      ],
      "source": [
        "#[s, lov, lo, j] to be deleted\n",
        "idx_to_delete = data[data['emotion'].isin (['s', 'lov', 'lo', 'j'])].index\n",
        "data_01 = data.drop (index= idx_to_delete)\n",
        "data_01"
      ]
    },
    {
      "cell_type": "code",
      "execution_count": 34,
      "metadata": {
        "id": "7Jcs69ghbuju"
      },
      "outputs": [],
      "source": [
        "#Doing the emotional mapping, emotion to their original form\n",
        "emotion_mapping = {'sadness':'sad', 'Sad': 'sad',\n",
        "                    'joy': 'happy', 'happiness': 'happy', 'hapiness': 'happy', 'fun': 'happy', 'Laughing': 'happy', 'Happy': 'happy', 'love': 'happy', 'enthusiasm': 'happy', 'relief': 'happy', 'trust': 'happy',\n",
        "                    'none': 'neutral', 'Neutral': 'neutral', 'boredom': 'neutral', 'empty': 'neutral', 'sympathy': 'neutral', 'Wondering': 'neutral', 'anticipation': 'neutral',\n",
        "                    'Angry': 'angry', 'anger': 'angry', 'hate': 'angry', 'disgust': 'angry',\n",
        "                    'Surprised': 'surprised', 'surprise': 'surprised',\n",
        "                    'worry': 'fear', 'fear': 'fear'}\n",
        "#Remaining emotions : ['sad', 'happy', 'surprised', 'fear', 'angry', neutral]\n",
        "data_01['emotion'] = data_01['emotion'].replace (emotion_mapping)"
      ]
    },
    {
      "cell_type": "code",
      "execution_count": 35,
      "metadata": {
        "colab": {
          "base_uri": "https://localhost:8080/",
          "height": 542
        },
        "id": "Qf70Cw5wbuju",
        "outputId": "3faa4e97-68a9-405d-99d6-c5ae69efaffd"
      },
      "outputs": [
        {
          "data": {
            "application/vnd.plotly.v1+json": {
              "config": {
                "plotlyServerURL": "https://plot.ly"
              },
              "data": [
                {
                  "alignmentgroup": "True",
                  "hovertemplate": "variable=count<br>emotion=%{x}<br>value=%{y}<extra></extra>",
                  "legendgroup": "count",
                  "marker": {
                    "color": "#636efa",
                    "pattern": {
                      "shape": ""
                    }
                  },
                  "name": "count",
                  "offsetgroup": "count",
                  "orientation": "v",
                  "showlegend": true,
                  "textposition": "auto",
                  "type": "bar",
                  "x": [
                    "happy",
                    "sad",
                    "angry",
                    "fear",
                    "surprised",
                    "neutral"
                  ],
                  "xaxis": "x",
                  "y": [
                    187175,
                    129002,
                    63600,
                    51456,
                    17181,
                    4146
                  ],
                  "yaxis": "y"
                }
              ],
              "layout": {
                "barmode": "relative",
                "legend": {
                  "title": {
                    "text": "variable"
                  },
                  "tracegroupgap": 0
                },
                "template": {
                  "data": {
                    "bar": [
                      {
                        "error_x": {
                          "color": "#2a3f5f"
                        },
                        "error_y": {
                          "color": "#2a3f5f"
                        },
                        "marker": {
                          "line": {
                            "color": "#E5ECF6",
                            "width": 0.5
                          },
                          "pattern": {
                            "fillmode": "overlay",
                            "size": 10,
                            "solidity": 0.2
                          }
                        },
                        "type": "bar"
                      }
                    ],
                    "barpolar": [
                      {
                        "marker": {
                          "line": {
                            "color": "#E5ECF6",
                            "width": 0.5
                          },
                          "pattern": {
                            "fillmode": "overlay",
                            "size": 10,
                            "solidity": 0.2
                          }
                        },
                        "type": "barpolar"
                      }
                    ],
                    "carpet": [
                      {
                        "aaxis": {
                          "endlinecolor": "#2a3f5f",
                          "gridcolor": "white",
                          "linecolor": "white",
                          "minorgridcolor": "white",
                          "startlinecolor": "#2a3f5f"
                        },
                        "baxis": {
                          "endlinecolor": "#2a3f5f",
                          "gridcolor": "white",
                          "linecolor": "white",
                          "minorgridcolor": "white",
                          "startlinecolor": "#2a3f5f"
                        },
                        "type": "carpet"
                      }
                    ],
                    "choropleth": [
                      {
                        "colorbar": {
                          "outlinewidth": 0,
                          "ticks": ""
                        },
                        "type": "choropleth"
                      }
                    ],
                    "contour": [
                      {
                        "colorbar": {
                          "outlinewidth": 0,
                          "ticks": ""
                        },
                        "colorscale": [
                          [
                            0,
                            "#0d0887"
                          ],
                          [
                            0.1111111111111111,
                            "#46039f"
                          ],
                          [
                            0.2222222222222222,
                            "#7201a8"
                          ],
                          [
                            0.3333333333333333,
                            "#9c179e"
                          ],
                          [
                            0.4444444444444444,
                            "#bd3786"
                          ],
                          [
                            0.5555555555555556,
                            "#d8576b"
                          ],
                          [
                            0.6666666666666666,
                            "#ed7953"
                          ],
                          [
                            0.7777777777777778,
                            "#fb9f3a"
                          ],
                          [
                            0.8888888888888888,
                            "#fdca26"
                          ],
                          [
                            1,
                            "#f0f921"
                          ]
                        ],
                        "type": "contour"
                      }
                    ],
                    "contourcarpet": [
                      {
                        "colorbar": {
                          "outlinewidth": 0,
                          "ticks": ""
                        },
                        "type": "contourcarpet"
                      }
                    ],
                    "heatmap": [
                      {
                        "colorbar": {
                          "outlinewidth": 0,
                          "ticks": ""
                        },
                        "colorscale": [
                          [
                            0,
                            "#0d0887"
                          ],
                          [
                            0.1111111111111111,
                            "#46039f"
                          ],
                          [
                            0.2222222222222222,
                            "#7201a8"
                          ],
                          [
                            0.3333333333333333,
                            "#9c179e"
                          ],
                          [
                            0.4444444444444444,
                            "#bd3786"
                          ],
                          [
                            0.5555555555555556,
                            "#d8576b"
                          ],
                          [
                            0.6666666666666666,
                            "#ed7953"
                          ],
                          [
                            0.7777777777777778,
                            "#fb9f3a"
                          ],
                          [
                            0.8888888888888888,
                            "#fdca26"
                          ],
                          [
                            1,
                            "#f0f921"
                          ]
                        ],
                        "type": "heatmap"
                      }
                    ],
                    "heatmapgl": [
                      {
                        "colorbar": {
                          "outlinewidth": 0,
                          "ticks": ""
                        },
                        "colorscale": [
                          [
                            0,
                            "#0d0887"
                          ],
                          [
                            0.1111111111111111,
                            "#46039f"
                          ],
                          [
                            0.2222222222222222,
                            "#7201a8"
                          ],
                          [
                            0.3333333333333333,
                            "#9c179e"
                          ],
                          [
                            0.4444444444444444,
                            "#bd3786"
                          ],
                          [
                            0.5555555555555556,
                            "#d8576b"
                          ],
                          [
                            0.6666666666666666,
                            "#ed7953"
                          ],
                          [
                            0.7777777777777778,
                            "#fb9f3a"
                          ],
                          [
                            0.8888888888888888,
                            "#fdca26"
                          ],
                          [
                            1,
                            "#f0f921"
                          ]
                        ],
                        "type": "heatmapgl"
                      }
                    ],
                    "histogram": [
                      {
                        "marker": {
                          "pattern": {
                            "fillmode": "overlay",
                            "size": 10,
                            "solidity": 0.2
                          }
                        },
                        "type": "histogram"
                      }
                    ],
                    "histogram2d": [
                      {
                        "colorbar": {
                          "outlinewidth": 0,
                          "ticks": ""
                        },
                        "colorscale": [
                          [
                            0,
                            "#0d0887"
                          ],
                          [
                            0.1111111111111111,
                            "#46039f"
                          ],
                          [
                            0.2222222222222222,
                            "#7201a8"
                          ],
                          [
                            0.3333333333333333,
                            "#9c179e"
                          ],
                          [
                            0.4444444444444444,
                            "#bd3786"
                          ],
                          [
                            0.5555555555555556,
                            "#d8576b"
                          ],
                          [
                            0.6666666666666666,
                            "#ed7953"
                          ],
                          [
                            0.7777777777777778,
                            "#fb9f3a"
                          ],
                          [
                            0.8888888888888888,
                            "#fdca26"
                          ],
                          [
                            1,
                            "#f0f921"
                          ]
                        ],
                        "type": "histogram2d"
                      }
                    ],
                    "histogram2dcontour": [
                      {
                        "colorbar": {
                          "outlinewidth": 0,
                          "ticks": ""
                        },
                        "colorscale": [
                          [
                            0,
                            "#0d0887"
                          ],
                          [
                            0.1111111111111111,
                            "#46039f"
                          ],
                          [
                            0.2222222222222222,
                            "#7201a8"
                          ],
                          [
                            0.3333333333333333,
                            "#9c179e"
                          ],
                          [
                            0.4444444444444444,
                            "#bd3786"
                          ],
                          [
                            0.5555555555555556,
                            "#d8576b"
                          ],
                          [
                            0.6666666666666666,
                            "#ed7953"
                          ],
                          [
                            0.7777777777777778,
                            "#fb9f3a"
                          ],
                          [
                            0.8888888888888888,
                            "#fdca26"
                          ],
                          [
                            1,
                            "#f0f921"
                          ]
                        ],
                        "type": "histogram2dcontour"
                      }
                    ],
                    "mesh3d": [
                      {
                        "colorbar": {
                          "outlinewidth": 0,
                          "ticks": ""
                        },
                        "type": "mesh3d"
                      }
                    ],
                    "parcoords": [
                      {
                        "line": {
                          "colorbar": {
                            "outlinewidth": 0,
                            "ticks": ""
                          }
                        },
                        "type": "parcoords"
                      }
                    ],
                    "pie": [
                      {
                        "automargin": true,
                        "type": "pie"
                      }
                    ],
                    "scatter": [
                      {
                        "fillpattern": {
                          "fillmode": "overlay",
                          "size": 10,
                          "solidity": 0.2
                        },
                        "type": "scatter"
                      }
                    ],
                    "scatter3d": [
                      {
                        "line": {
                          "colorbar": {
                            "outlinewidth": 0,
                            "ticks": ""
                          }
                        },
                        "marker": {
                          "colorbar": {
                            "outlinewidth": 0,
                            "ticks": ""
                          }
                        },
                        "type": "scatter3d"
                      }
                    ],
                    "scattercarpet": [
                      {
                        "marker": {
                          "colorbar": {
                            "outlinewidth": 0,
                            "ticks": ""
                          }
                        },
                        "type": "scattercarpet"
                      }
                    ],
                    "scattergeo": [
                      {
                        "marker": {
                          "colorbar": {
                            "outlinewidth": 0,
                            "ticks": ""
                          }
                        },
                        "type": "scattergeo"
                      }
                    ],
                    "scattergl": [
                      {
                        "marker": {
                          "colorbar": {
                            "outlinewidth": 0,
                            "ticks": ""
                          }
                        },
                        "type": "scattergl"
                      }
                    ],
                    "scattermapbox": [
                      {
                        "marker": {
                          "colorbar": {
                            "outlinewidth": 0,
                            "ticks": ""
                          }
                        },
                        "type": "scattermapbox"
                      }
                    ],
                    "scatterpolar": [
                      {
                        "marker": {
                          "colorbar": {
                            "outlinewidth": 0,
                            "ticks": ""
                          }
                        },
                        "type": "scatterpolar"
                      }
                    ],
                    "scatterpolargl": [
                      {
                        "marker": {
                          "colorbar": {
                            "outlinewidth": 0,
                            "ticks": ""
                          }
                        },
                        "type": "scatterpolargl"
                      }
                    ],
                    "scatterternary": [
                      {
                        "marker": {
                          "colorbar": {
                            "outlinewidth": 0,
                            "ticks": ""
                          }
                        },
                        "type": "scatterternary"
                      }
                    ],
                    "surface": [
                      {
                        "colorbar": {
                          "outlinewidth": 0,
                          "ticks": ""
                        },
                        "colorscale": [
                          [
                            0,
                            "#0d0887"
                          ],
                          [
                            0.1111111111111111,
                            "#46039f"
                          ],
                          [
                            0.2222222222222222,
                            "#7201a8"
                          ],
                          [
                            0.3333333333333333,
                            "#9c179e"
                          ],
                          [
                            0.4444444444444444,
                            "#bd3786"
                          ],
                          [
                            0.5555555555555556,
                            "#d8576b"
                          ],
                          [
                            0.6666666666666666,
                            "#ed7953"
                          ],
                          [
                            0.7777777777777778,
                            "#fb9f3a"
                          ],
                          [
                            0.8888888888888888,
                            "#fdca26"
                          ],
                          [
                            1,
                            "#f0f921"
                          ]
                        ],
                        "type": "surface"
                      }
                    ],
                    "table": [
                      {
                        "cells": {
                          "fill": {
                            "color": "#EBF0F8"
                          },
                          "line": {
                            "color": "white"
                          }
                        },
                        "header": {
                          "fill": {
                            "color": "#C8D4E3"
                          },
                          "line": {
                            "color": "white"
                          }
                        },
                        "type": "table"
                      }
                    ]
                  },
                  "layout": {
                    "annotationdefaults": {
                      "arrowcolor": "#2a3f5f",
                      "arrowhead": 0,
                      "arrowwidth": 1
                    },
                    "autotypenumbers": "strict",
                    "coloraxis": {
                      "colorbar": {
                        "outlinewidth": 0,
                        "ticks": ""
                      }
                    },
                    "colorscale": {
                      "diverging": [
                        [
                          0,
                          "#8e0152"
                        ],
                        [
                          0.1,
                          "#c51b7d"
                        ],
                        [
                          0.2,
                          "#de77ae"
                        ],
                        [
                          0.3,
                          "#f1b6da"
                        ],
                        [
                          0.4,
                          "#fde0ef"
                        ],
                        [
                          0.5,
                          "#f7f7f7"
                        ],
                        [
                          0.6,
                          "#e6f5d0"
                        ],
                        [
                          0.7,
                          "#b8e186"
                        ],
                        [
                          0.8,
                          "#7fbc41"
                        ],
                        [
                          0.9,
                          "#4d9221"
                        ],
                        [
                          1,
                          "#276419"
                        ]
                      ],
                      "sequential": [
                        [
                          0,
                          "#0d0887"
                        ],
                        [
                          0.1111111111111111,
                          "#46039f"
                        ],
                        [
                          0.2222222222222222,
                          "#7201a8"
                        ],
                        [
                          0.3333333333333333,
                          "#9c179e"
                        ],
                        [
                          0.4444444444444444,
                          "#bd3786"
                        ],
                        [
                          0.5555555555555556,
                          "#d8576b"
                        ],
                        [
                          0.6666666666666666,
                          "#ed7953"
                        ],
                        [
                          0.7777777777777778,
                          "#fb9f3a"
                        ],
                        [
                          0.8888888888888888,
                          "#fdca26"
                        ],
                        [
                          1,
                          "#f0f921"
                        ]
                      ],
                      "sequentialminus": [
                        [
                          0,
                          "#0d0887"
                        ],
                        [
                          0.1111111111111111,
                          "#46039f"
                        ],
                        [
                          0.2222222222222222,
                          "#7201a8"
                        ],
                        [
                          0.3333333333333333,
                          "#9c179e"
                        ],
                        [
                          0.4444444444444444,
                          "#bd3786"
                        ],
                        [
                          0.5555555555555556,
                          "#d8576b"
                        ],
                        [
                          0.6666666666666666,
                          "#ed7953"
                        ],
                        [
                          0.7777777777777778,
                          "#fb9f3a"
                        ],
                        [
                          0.8888888888888888,
                          "#fdca26"
                        ],
                        [
                          1,
                          "#f0f921"
                        ]
                      ]
                    },
                    "colorway": [
                      "#636efa",
                      "#EF553B",
                      "#00cc96",
                      "#ab63fa",
                      "#FFA15A",
                      "#19d3f3",
                      "#FF6692",
                      "#B6E880",
                      "#FF97FF",
                      "#FECB52"
                    ],
                    "font": {
                      "color": "#2a3f5f"
                    },
                    "geo": {
                      "bgcolor": "white",
                      "lakecolor": "white",
                      "landcolor": "#E5ECF6",
                      "showlakes": true,
                      "showland": true,
                      "subunitcolor": "white"
                    },
                    "hoverlabel": {
                      "align": "left"
                    },
                    "hovermode": "closest",
                    "mapbox": {
                      "style": "light"
                    },
                    "paper_bgcolor": "white",
                    "plot_bgcolor": "#E5ECF6",
                    "polar": {
                      "angularaxis": {
                        "gridcolor": "white",
                        "linecolor": "white",
                        "ticks": ""
                      },
                      "bgcolor": "#E5ECF6",
                      "radialaxis": {
                        "gridcolor": "white",
                        "linecolor": "white",
                        "ticks": ""
                      }
                    },
                    "scene": {
                      "xaxis": {
                        "backgroundcolor": "#E5ECF6",
                        "gridcolor": "white",
                        "gridwidth": 2,
                        "linecolor": "white",
                        "showbackground": true,
                        "ticks": "",
                        "zerolinecolor": "white"
                      },
                      "yaxis": {
                        "backgroundcolor": "#E5ECF6",
                        "gridcolor": "white",
                        "gridwidth": 2,
                        "linecolor": "white",
                        "showbackground": true,
                        "ticks": "",
                        "zerolinecolor": "white"
                      },
                      "zaxis": {
                        "backgroundcolor": "#E5ECF6",
                        "gridcolor": "white",
                        "gridwidth": 2,
                        "linecolor": "white",
                        "showbackground": true,
                        "ticks": "",
                        "zerolinecolor": "white"
                      }
                    },
                    "shapedefaults": {
                      "line": {
                        "color": "#2a3f5f"
                      }
                    },
                    "ternary": {
                      "aaxis": {
                        "gridcolor": "white",
                        "linecolor": "white",
                        "ticks": ""
                      },
                      "baxis": {
                        "gridcolor": "white",
                        "linecolor": "white",
                        "ticks": ""
                      },
                      "bgcolor": "#E5ECF6",
                      "caxis": {
                        "gridcolor": "white",
                        "linecolor": "white",
                        "ticks": ""
                      }
                    },
                    "title": {
                      "x": 0.05
                    },
                    "xaxis": {
                      "automargin": true,
                      "gridcolor": "white",
                      "linecolor": "white",
                      "ticks": "",
                      "title": {
                        "standoff": 15
                      },
                      "zerolinecolor": "white",
                      "zerolinewidth": 2
                    },
                    "yaxis": {
                      "automargin": true,
                      "gridcolor": "white",
                      "linecolor": "white",
                      "ticks": "",
                      "title": {
                        "standoff": 15
                      },
                      "zerolinecolor": "white",
                      "zerolinewidth": 2
                    }
                  }
                },
                "title": {
                  "text": "Number of rows per emotion"
                },
                "width": 500,
                "xaxis": {
                  "anchor": "y",
                  "domain": [
                    0,
                    1
                  ],
                  "title": {
                    "text": "emotion"
                  }
                },
                "yaxis": {
                  "anchor": "x",
                  "domain": [
                    0,
                    1
                  ],
                  "title": {
                    "text": "value"
                  }
                }
              }
            }
          },
          "metadata": {},
          "output_type": "display_data"
        }
      ],
      "source": [
        "#Number of rows per emotion\n",
        "px.bar (data_01['emotion'].value_counts(), width = 500, title = 'Number of rows per emotion')"
      ]
    },
    {
      "cell_type": "markdown",
      "metadata": {
        "id": "2nAVpHXubujv"
      },
      "source": [
        "We end up with 6 emotions : happy, surprised, neutral, fear, sad,  angry"
      ]
    },
    {
      "cell_type": "markdown",
      "metadata": {
        "id": "HmmIv9vKbujv"
      },
      "source": [
        "Some rows in text feature contains some usernames that start with: @\n",
        "These usernames are not gonna add any information to our models.\n",
        "In contrast they might make our model biased.\n",
        "Due to the reasons above we should delete these usernames"
      ]
    },
    {
      "cell_type": "code",
      "execution_count": null,
      "metadata": {
        "id": "i27cj7Chbujv"
      },
      "outputs": [],
      "source": [
        "#Defining delete_username function\n",
        "def delete_username (sentence):\n",
        "    \"\"\"\n",
        "    This function takes as input a sentence and delete all the words in it that start with the caracter @\n",
        "    sentence: str\n",
        "    exemple : '@Hamza I don't agree with this politic.' ----> 'I don't agree with this politic'\n",
        "    \"\"\"\n",
        "    #Get tokens from sentence\n",
        "    tokens = nltk.word_tokenize (sentence)\n",
        "    #initiate a list that will contains the remaning tokens\n",
        "    final_tokens = []\n",
        "    #Loop over these tokens\n",
        "    i = 0\n",
        "    while i < len (tokens):\n",
        "        #See if the token is starting with a @\n",
        "        if tokens[i].startswith(\"@\"):\n",
        "            #if so skip it and the next word\n",
        "            i = i+2\n",
        "        else:\n",
        "            #The word doesn't start with @ so add it\n",
        "            final_tokens.append (tokens[i])\n",
        "            i = i+1\n",
        "\n",
        "    #Finally concatenate tokens to a sentence\n",
        "    sentence = ' '.join (final_tokens)\n",
        "    return sentence\n",
        "\n",
        "#Testing the function\n",
        "sentence = 'Hello @Hamza how are you doing ?, did you see @mohamed I want to talk with him'\n",
        "delete_username(sentence)"
      ]
    },
    {
      "cell_type": "markdown",
      "metadata": {
        "id": "xC686zHVbujv"
      },
      "source": [
        "\n",
        "###  Applying models on the dataset before fine-tuning and evaluating the performance"
      ]
    },
    {
      "cell_type": "code",
      "execution_count": null,
      "metadata": {
        "id": "04Z1iGNwbujv",
        "outputId": "e8eec313-113a-421a-e48e-45b1023867e4"
      },
      "outputs": [],
      "source": [
        "#Importing the model\n",
        "from transformers import AutoTokenizer, XLMRobertaForSequenceClassification, pipeline\n",
        "import torch"
      ]
    },
    {
      "cell_type": "code",
      "execution_count": null,
      "metadata": {
        "id": "UwWN9repbujv"
      },
      "outputs": [],
      "source": [
        "#Model\n",
        "model_name = 'upsalite/xlm-roberta-base-finetuned-emotion-37-labels'\n",
        "tokenizer = AutoTokenizer.from_pretrained (model_name)\n",
        "roberta_model = XLMRobertaForSequenceClassification.from_pretrained (model_name)"
      ]
    },
    {
      "cell_type": "code",
      "execution_count": null,
      "metadata": {
        "id": "oej1K9r7bujv"
      },
      "outputs": [],
      "source": [
        "#Function that returns the emotions with thier probabilities using the model predictions\n",
        "def get_emotions_probabilities (text, model, tokenizer):\n",
        "    \"\"\"This function returns each emotion with its probabilite\n",
        "    from output of a model roberta in this case, and a text\n",
        "    text : input text\n",
        "    tokenizer : tokenizer to tokenize text\n",
        "    model: roberta-model for inference\n",
        "    \"\"\"\n",
        "\n",
        "    text_tokenized = tokenizer (text, return_tensors = 'pt')\n",
        "    with torch.no_grad ():\n",
        "        output = roberta_model ( **text_tokenized )\n",
        "    predictions = torch.nn.functional.softmax (output.logits, dim=-1)[0]\n",
        "    emotions = model.config.id2label\n",
        "    emotion_probabilitie = {}\n",
        "    for i, item in enumerate (predictions) :\n",
        "        emotion_probabilitie[emotions[i]] = item.item()\n",
        "\n",
        "    return emotion_probabilitie"
      ]
    },
    {
      "cell_type": "markdown",
      "metadata": {
        "id": "e3eIAw_mbujv"
      },
      "source": [
        "> Available fined tuned models on emotion datasets:\n",
        "\n",
        "daveni/twitter-xlm-roberta-emotion-es   F1:71%\n",
        "\n",
        "SamLowe/roberta-base-go_emotions    F1: 41%\n",
        "\n",
        "upsalite/xlm-roberta-base-finetuned-emotion-37-labels  F1: 71%\n",
        "\n",
        "02shanky/finetuned-twitter-xlm-roberta-base-emotion  F1: 93%"
      ]
    },
    {
      "cell_type": "code",
      "execution_count": null,
      "metadata": {
        "id": "7lbzdVlKbujv"
      },
      "outputs": [],
      "source": [
        "#Models :\n",
        "model = pipeline ( task = 'text-classification', model = '02shanky/finetuned-twitter-xlm-roberta-base-emotion' )"
      ]
    },
    {
      "cell_type": "code",
      "execution_count": null,
      "metadata": {
        "id": "_cH1Knnwbujv",
        "outputId": "a9562a94-f28e-4ded-e1c5-9b090efb9e68"
      },
      "outputs": [],
      "source": [
        "#Test in french language\n",
        "sample_text = \"\"\" ce que tu as fait est inacceptable, \"\"\"\n",
        "model (sample_text)"
      ]
    },
    {
      "cell_type": "code",
      "execution_count": null,
      "metadata": {
        "id": "6e_WnDHibujv",
        "outputId": "5b8326dd-93ab-4f7a-a459-53eb85f3d72d"
      },
      "outputs": [],
      "source": [
        "#Test in egy language\n",
        "sample_text = data_01 [data['language'] == 'egy'][10063:10064]['text'].item()\n",
        "#'وعليك قبلنا يانجم النجوم ياعندليب الحب والاحساس'\n",
        "model (sample_text)"
      ]
    },
    {
      "cell_type": "code",
      "execution_count": null,
      "metadata": {
        "id": "llti4ZM_bujv",
        "outputId": "db60b2d4-ab6e-4b48-8426-63626498b2d1"
      },
      "outputs": [],
      "source": [
        "#Test in alg latin\n",
        "sample_text = 'hadi khabar zwina bzaf, ana far7an'\n",
        "model (sample_text)"
      ]
    },
    {
      "cell_type": "markdown",
      "metadata": {
        "id": "0YoevkrNbujw"
      },
      "source": [
        "the \"02shanky/finetuned-twitter-xlm-roberta-base-emotion\" model doesn't support alg latin"
      ]
    },
    {
      "cell_type": "markdown",
      "metadata": {
        "id": "RAH31vjQbujw"
      },
      "source": [
        "Choosing a subset of the data to test the models on"
      ]
    },
    {
      "cell_type": "markdown",
      "metadata": {
        "id": "_zqoOF4dbujw"
      },
      "source": [
        "#### `english data`"
      ]
    },
    {
      "cell_type": "code",
      "execution_count": null,
      "metadata": {
        "id": "Arbdomatbujw",
        "outputId": "a0f2dc79-7e05-4a9c-c1f0-69454011b83e"
      },
      "outputs": [],
      "source": [
        "#Subset of data (1000 rows)\n",
        "eng_data = data_01 [ data_01['language'] == 'eng' ]\n",
        "eng_data = eng_data[0: 1000]\n",
        "eng_data"
      ]
    },
    {
      "cell_type": "code",
      "execution_count": null,
      "metadata": {
        "id": "ohYmTwvWbujw"
      },
      "outputs": [],
      "source": [
        "# df to array\n",
        "eng_text = eng_data ['text'].to_list()"
      ]
    },
    {
      "cell_type": "code",
      "execution_count": null,
      "metadata": {
        "id": "SUNf6O0Abujw",
        "outputId": "55a0195a-c9d1-40e6-ab4e-23e69b0db1c4"
      },
      "outputs": [],
      "source": [
        "#Applying the model\n",
        "eng_output = model ( eng_text )\n",
        "eng_output"
      ]
    },
    {
      "cell_type": "markdown",
      "metadata": {
        "id": "2zY6CFjAbujw"
      },
      "source": [
        "The list of emotion reconised by model is : love, joy, anger, sadness, surprise, fear\n",
        "\n",
        "While emotions in our usecase are: happy ,neutral, angry, sad, surprised, fear   \n",
        "\n",
        "That means we should do the necessay mapping before calculating the accuracy"
      ]
    },
    {
      "cell_type": "code",
      "execution_count": null,
      "metadata": {
        "id": "A6Pjw3p_bujw"
      },
      "outputs": [],
      "source": [
        "#emotions dictionnary\n",
        "emotion_mapping = {'love': 'happy', 'joy': 'happy', 'anger': 'angry', 'sadness': 'sad', 'surprise': 'surprised', 'fear': 'fear'}"
      ]
    },
    {
      "cell_type": "code",
      "execution_count": null,
      "metadata": {
        "id": "aW_5gN3pbujw"
      },
      "outputs": [],
      "source": [
        "#Getting the labels from eng_output\n",
        "eng_output_labels = []\n",
        "for line in eng_output:\n",
        "    #gitting the model emotion\n",
        "    emotion = emotion_mapping [line['label']]\n",
        "    #transfoming it to original form\n",
        "    eng_output_labels.append (emotion)"
      ]
    },
    {
      "cell_type": "code",
      "execution_count": null,
      "metadata": {
        "id": "WdGHMeKbbujw",
        "outputId": "0b593194-77bf-4aba-f337-96b896b5c9dd"
      },
      "outputs": [],
      "source": [
        "#Mesuring the metrics score\n",
        "print ('the accuracy score of the model for english data is :', accuracy_score ( eng_data['emotion'], eng_output_labels ))\n",
        "print ('the f1 score of the model for english data is :', f1_score ( eng_data['emotion'], eng_output_labels, average = 'macro' ))\n",
        "print ('the precision score of the model for english data is :', precision_score ( eng_data['emotion'], eng_output_labels, average = 'macro' ))\n",
        "print ('the recall score of the model for english data is :', recall_score ( eng_data['emotion'], eng_output_labels, average = 'macro' ))"
      ]
    },
    {
      "cell_type": "code",
      "execution_count": null,
      "metadata": {
        "id": "n4nWnzeAbujw",
        "outputId": "ab174ae3-2eee-4ff7-cc2a-171c23c51fc1"
      },
      "outputs": [],
      "source": [
        "#Visualising the confusion matrix\n",
        "matrix = confusion_matrix ( eng_data['emotion'], eng_output_labels )\n",
        "labels = ['angry', 'fear', 'happy', 'neutral', 'sad', 'surprised'  ]\n",
        "seaborn.heatmap ( matrix, annot=True, cmap='Blues', fmt='d', xticklabels= labels, yticklabels= labels )"
      ]
    },
    {
      "cell_type": "markdown",
      "metadata": {
        "id": "x5zj6XrHbujw"
      },
      "source": [
        "The model perform great on the english data"
      ]
    },
    {
      "cell_type": "markdown",
      "metadata": {
        "id": "Smr_HlUUbujw"
      },
      "source": [
        "#### ` French data `"
      ]
    },
    {
      "cell_type": "code",
      "execution_count": null,
      "metadata": {
        "id": "8dBAsSITbujw",
        "outputId": "8fd2c9f0-121b-4776-9a7a-fcc49ecaf575"
      },
      "outputs": [],
      "source": [
        "#Subset of data (1000 rows)\n",
        "fr_data = data_01 [ data_01['language'] == 'fr' ]\n",
        "fr_data = fr_data[0: 1000]\n",
        "\n",
        "# df to array\n",
        "fr_text = fr_data ['text'].to_list()\n",
        "#Applying the model\n",
        "fr_output = model ( fr_text )\n",
        "\n",
        "#emotions dictionnary\n",
        "emotion_mapping = {'love': 'happy', 'joy': 'happy', 'anger': 'angry', 'sadness': 'sad', 'surprise': 'surprised', 'fear': 'fear'}\n",
        "#Getting the labels from eng_output\n",
        "fr_output_labels = []\n",
        "for line in fr_output:\n",
        "    #gitting the model emotion\n",
        "    emotion = emotion_mapping [line['label']]\n",
        "    #transfoming it to original form\n",
        "    fr_output_labels.append (emotion)\n",
        "#Mesuring the metrics score\n",
        "print ('the accuracy score of the model for french data is :', accuracy_score ( fr_data['emotion'], fr_output_labels ))\n",
        "print ('the f1 score of the model for french data is :', f1_score ( fr_data['emotion'], fr_output_labels, average = 'macro' ))\n",
        "print ('the precision score of the model for french data is :', precision_score ( fr_data['emotion'], fr_output_labels, average = 'macro' ))\n",
        "print ('the recall score of the model for french data is :', recall_score ( fr_data['emotion'], fr_output_labels, average = 'macro' ))\n",
        "#Visualising the confusion matrix\n",
        "matrix = confusion_matrix ( fr_data['emotion'], fr_output_labels )\n",
        "labels = ['angry', 'fear', 'happy', 'neutral', 'sad', 'surprised'  ]\n",
        "seaborn.heatmap ( matrix, annot=True, cmap='Blues', fmt='d', xticklabels= labels, yticklabels= labels )"
      ]
    },
    {
      "cell_type": "markdown",
      "metadata": {
        "id": "eLYl_Hl4buj4"
      },
      "source": [
        "#### `Egyptian data`"
      ]
    },
    {
      "cell_type": "code",
      "execution_count": null,
      "metadata": {
        "id": "ZgmA6f0Hbuj4",
        "outputId": "62df9d9d-3379-466e-e280-98c2e15d30b8"
      },
      "outputs": [],
      "source": [
        "#Subset of data (1000 rows)\n",
        "egy_data = data_01 [ data_01['language'] == 'egy' ]\n",
        "egy_data = egy_data[0: 1000]\n",
        "# df to array\n",
        "egy_text = egy_data ['text'].to_list()\n",
        "#Applying the model\n",
        "egy_output = model ( egy_text )\n",
        "\n",
        "#emotions dictionnary\n",
        "emotion_mapping = {'love': 'happy', 'joy': 'happy', 'anger': 'angry', 'sadness': 'sad', 'surprise': 'surprised', 'fear': 'fear'}\n",
        "#Getting the labels from output\n",
        "egy_output_labels = []\n",
        "for line in egy_output:\n",
        "    #gitting the model emotion\n",
        "    emotion = emotion_mapping [line['label']]\n",
        "    #transfoming it to original form\n",
        "    egy_output_labels.append (emotion)\n",
        "#Mesuring the metrics score\n",
        "print ('the accuracy score of the model for egyptian data is :', accuracy_score ( egy_data['emotion'], egy_output_labels ))\n",
        "print ('the f1 score of the model for egyptian data is :', f1_score ( egy_data['emotion'], egy_output_labels, average = 'macro' ))\n",
        "print ('the precision score of the model for egyptian data is :', precision_score ( egy_data['emotion'], egy_output_labels, average = 'macro' ))\n",
        "print ('the recall score of the model for egyptian data is :', recall_score ( egy_data['emotion'], egy_output_labels, average = 'macro' ))\n",
        "\n",
        "#Visualising the confusion matrix\n",
        "matrix = confusion_matrix ( egy_data['emotion'], egy_output_labels )\n",
        "labels = ['angry', 'fear', 'happy', 'neutral', 'sad', 'surprised'  ]\n",
        "seaborn.heatmap ( matrix, annot=True, cmap='Blues', fmt='d', xticklabels= labels, yticklabels= labels )"
      ]
    },
    {
      "cell_type": "markdown",
      "metadata": {
        "id": "NScm1-F_buj4"
      },
      "source": [
        "#### `Arab classic data`"
      ]
    },
    {
      "cell_type": "markdown",
      "metadata": {
        "id": "zeN48BQ3buj4"
      },
      "source": [
        "The model can't generate inference on text that length is bigger then 900. That why we fixed the max_text_length to 900."
      ]
    },
    {
      "cell_type": "code",
      "execution_count": null,
      "metadata": {
        "id": "hL6umAPkbuj4"
      },
      "outputs": [],
      "source": [
        "#Max text length\n",
        "max_text_length = 600"
      ]
    },
    {
      "cell_type": "code",
      "execution_count": null,
      "metadata": {
        "id": "0XpMeHErbuj4"
      },
      "outputs": [],
      "source": [
        "#Subset of data (1000 rows)\n",
        "#First lets shuflle data\n",
        "from sklearn.utils import shuffle\n",
        "arb_data = data_01 [ data_01['language'] == 'arb' ]\n",
        "arb_data = shuffle ( arb_data )\n",
        "arb_data = arb_data[0: 1000]\n",
        "# df to array\n",
        "arb_text = arb_data ['text'].to_list()\n",
        "#Limiting the size of texts in arb_text to max_text_length\n",
        "arb_text_lim = []\n",
        "for text in arb_text:\n",
        "    arb_text_lim.append  (text [0: max_text_length])"
      ]
    },
    {
      "cell_type": "code",
      "execution_count": null,
      "metadata": {
        "id": "xJe4H2_Vbuj4",
        "outputId": "6312c8dd-a449-45f0-daa0-ad64246bf444"
      },
      "outputs": [],
      "source": [
        "#Nmb of emotions in arabic data\n",
        "print ('Nmb of emotions in arabic data is:')\n",
        "arb_data.emotion.value_counts()"
      ]
    },
    {
      "cell_type": "code",
      "execution_count": null,
      "metadata": {
        "id": "ABO6zneVbuj4",
        "outputId": "c7d9e955-5be1-411f-cb49-04c0e35c09f2"
      },
      "outputs": [],
      "source": [
        "#Applying the model\n",
        "arb_output = model ( arb_text_lim )\n",
        "\n",
        "#emotions dictionnary\n",
        "emotion_mapping = {'love': 'happy', 'joy': 'happy', 'anger': 'angry', 'sadness': 'sad', 'surprise': 'surprised', 'fear': 'fear'}\n",
        "#Getting the labels from output\n",
        "arb_output_labels = []\n",
        "for line in arb_output:\n",
        "    #gitting the model emotion\n",
        "    emotion = emotion_mapping [line['label']]\n",
        "    #transfoming it to original form\n",
        "    arb_output_labels.append (emotion)\n",
        "#Mesuring the metrics score\n",
        "print ('the accuracy score of the model for arab data is :', accuracy_score ( arb_data['emotion'], arb_output_labels ))\n",
        "print ('the f1 score of the model for arab data is :', f1_score ( arb_data['emotion'], arb_output_labels, average = 'macro' ))\n",
        "print ('the precision score of the model for arab data is :', precision_score ( arb_data['emotion'], arb_output_labels, average = 'macro' ))\n",
        "print ('the recall score of the model for arab data is :', recall_score ( arb_data['emotion'], arb_output_labels, average = 'macro' ))\n",
        "#Visualising the confusion matrix\n",
        "matrix = confusion_matrix ( arb_data['emotion'], arb_output_labels )\n",
        "labels = ['angry', 'fear', 'happy', 'sad' ]\n",
        "seaborn.heatmap ( matrix, annot=True, cmap='Blues', fmt='d', xticklabels= labels, yticklabels= labels )"
      ]
    },
    {
      "cell_type": "markdown",
      "metadata": {
        "id": "DUrtJxYrbuj4"
      },
      "source": [
        "#### `Darija written in latin data`"
      ]
    },
    {
      "cell_type": "code",
      "execution_count": null,
      "metadata": {
        "id": "JZ2j0L0dbuj4",
        "outputId": "38015735-21e5-4bb2-8464-c700aaad9edb"
      },
      "outputs": [],
      "source": [
        "\n",
        "#Subset of data (1000 rows)\n",
        "drj_data = data_01 [data_01['language'] == 'alg-latin']\n",
        "drj_data = shuffle ( drj_data )\n",
        "drj_data = drj_data[0: 1000]\n",
        "# df to array\n",
        "drj_text = drj_data ['text'].to_list()\n",
        "#Applying the model\n",
        "drj_output = model ( drj_text )\n",
        "\n",
        "#emotions dictionnary\n",
        "emotion_mapping = {'love': 'happy', 'joy': 'happy', 'anger': 'angry', 'sadness': 'sad', 'surprise': 'surprised', 'fear': 'fear'}\n",
        "#Getting the labels from output\n",
        "drj_output_labels = []\n",
        "for line in drj_output:\n",
        "    #gitting the model emotion\n",
        "    emotion = emotion_mapping [line['label']]\n",
        "    #transfoming it to original form\n",
        "    drj_output_labels.append (emotion)\n",
        "#Mesuring the metrics score\n",
        "print ('the accuracy score of the model for darija data is :', accuracy_score ( drj_data['emotion'], drj_output_labels ))\n",
        "print ('the f1 score of the model for darija data is :', f1_score ( drj_data['emotion'], drj_output_labels, average = 'macro' ))\n",
        "print ('the precision score of the model for darija data is :', precision_score ( drj_data['emotion'], drj_output_labels, average = 'macro' ))\n",
        "print ('the recall score of the model for darija data is :', recall_score ( drj_data['emotion'], drj_output_labels, average = 'macro' ))\n",
        "#Visualising the confusion matrix\n",
        "matrix = confusion_matrix ( drj_data['emotion'], drj_output_labels )\n",
        "labels = ['angry', 'fear', 'happy', 'neutral', 'sad', 'surprised'  ]\n",
        "seaborn.heatmap ( matrix, annot=True, cmap='Blues', fmt='d', xticklabels= labels, yticklabels= labels )"
      ]
    },
    {
      "cell_type": "markdown",
      "metadata": {
        "id": "VT8XgVp_buj5"
      },
      "source": [
        "Le modèle est très faible en darija"
      ]
    },
    {
      "cell_type": "markdown",
      "metadata": {
        "id": "gTNyO_2lbuj5"
      },
      "source": [
        "Récapitulatif des performances du modèle {finetuned-twitter-xlm-roberta-base-emotion} en détection des émotions en différentes langues  :\n",
        "\n",
        "|       | F1-score      | Accuracy      | Precision | Recall    |\n",
        "-------- | ------------ |  ----------------- | -----| --------\n",
        "|English |     0.9374479  |   0.972   | 0.938283 | 0.93754  |\n",
        "| French | 0.62124  |  0.708 | 0.6427| 0.616444 |\n",
        "|Egyptain | 0.377739 | 0.456 | 0.4133 | 0.4557 |\n",
        "|Arabic | 0.2353 | 0.471 | nan  | nan |\n",
        "|Darija | 0.12755 | 0.211 | 0.1969 |  0.20563 |\n",
        "\n",
        "You need to add, type of data, sample of data"
      ]
    },
    {
      "cell_type": "markdown",
      "metadata": {},
      "source": [
        "#### `Darija-Lattin with DarijaBert part II`"
      ]
    },
    {
      "cell_type": "code",
      "execution_count": null,
      "metadata": {},
      "outputs": [],
      "source": []
    },
    {
      "cell_type": "markdown",
      "metadata": {
        "id": "T6tEAXcLbuj5"
      },
      "source": [
        "### Model fine-tuning on our datasets"
      ]
    },
    {
      "cell_type": "markdown",
      "metadata": {
        "id": "1YcV7Toqbuj5"
      },
      "source": [
        "In this part of the notebook we will fine tune the model {02shanky/finetuned-twitter-xlm-roberta-base-emotion} on datasets where he performed baddly such as French, Arabic, Darija ..."
      ]
    },
    {
      "cell_type": "markdown",
      "metadata": {
        "id": "02KD2u-Ibuj5"
      },
      "source": [
        "#### 1st Approche using Pytorch"
      ]
    },
    {
      "cell_type": "code",
      "execution_count": null,
      "metadata": {
        "id": "APA_nJYSbuj5"
      },
      "outputs": [],
      "source": [
        "#Packages\n",
        "from transformers import Trainer, TrainingArguments, AutoTokenizer, XLMRobertaForSequenceClassification, XLMRobertaTokenizer\n",
        "import torch\n",
        "from torch.utils.data import Dataset, DataLoader"
      ]
    },
    {
      "cell_type": "code",
      "execution_count": null,
      "metadata": {
        "id": "xeX-fnizbuj5"
      },
      "outputs": [],
      "source": [
        "#Let's encode first the emotion column\n",
        "emotion_to_num = {\"happy\": 0, \"sad\": 1, \"angry\": 2, \"fear\": 3, \"surprised\": 4}\n",
        "fr_train_dataset['emotion'] = [emotion_to_num[emotion] for emotion in fr_train_dataset['emotion']]\n",
        "fr_test_dataset['emotion'] = [emotion_to_num[emotion] for emotion in fr_test_dataset['emotion']]"
      ]
    },
    {
      "cell_type": "code",
      "execution_count": null,
      "metadata": {
        "id": "3Q25CLHTbuj5"
      },
      "outputs": [],
      "source": [
        "#Method 1 of customizing data\n",
        "\n",
        "#Customizing dataset\n",
        "class CustomDataset(Dataset):\n",
        "    def __init__(self, texts, emotions, tokenizer, max_length):\n",
        "        self.texts = texts\n",
        "        self.emotions = emotions\n",
        "        self.tokenizer = tokenizer\n",
        "        self.max_length = max_length\n",
        "\n",
        "    def __len__(self):\n",
        "        return len(self.texts)\n",
        "\n",
        "    def __getitem__(self, idx):\n",
        "        texts = self.texts[idx]\n",
        "        emotions = self.emotions[idx]\n",
        "        # Tokenize the text\n",
        "        encoding = self.tokenizer(texts, padding='max_length', truncation=True, max_length=self.max_length, return_tensors='pt')\n",
        "\n",
        "        return {\n",
        "            'input_ids': encoding['input_ids'].flatten(),\n",
        "            'attention_mask': encoding['attention_mask'].flatten(),\n",
        "            'labels': torch.tensor(emotions, dtype=torch.long)\n",
        "        }\n",
        "#Applying Custom data on our data\n",
        "tokenizer = XLMRobertaTokenizer.from_pretrained (model_name)\n",
        "max_length = max(len(tokenizer.encode(text)) for text in fr_train_dataset['text'])\n",
        "fr_train_dataset_ = CustomDataset (fr_train_dataset['text'], fr_train_dataset['emotion'], tokenizer, max_length)\n",
        "fr_test_dataset_ = CustomDataset (fr_test_dataset['text'], fr_test_dataset['emotion'], tokenizer, max_length)\n"
      ]
    },
    {
      "cell_type": "code",
      "execution_count": null,
      "metadata": {
        "id": "cTiEqQGobuj5"
      },
      "outputs": [],
      "source": [
        "#Method 2 of customizing data\n",
        "\"\"\"\n",
        "#Tokenizing\n",
        "tokenizer = XLMRobertaTokenizer.from_pretrained(model_name)\n",
        "\n",
        "train_encodings = tokenizer(fr_train_dataset['text'].to_list(), truncation=True, padding='max_length', max_length=128)\n",
        "test_encodings = tokenizer(fr_test_dataset['text'].to_list(), truncation=True, padding='max_length', max_length=128)\n",
        "\n",
        "#Customizing data\n",
        "class CustomDataset(Dataset):\n",
        "    def __init__(self, encodings, emotion):\n",
        "        self.encodings = encodings\n",
        "        self.emotion = emotion\n",
        "\n",
        "    def __getitem__(self, idx):\n",
        "        item = {key: torch.tensor(val[idx]) for key, val in self.encodings.items()}\n",
        "        item['emotion'] = torch.tensor(self.emotion[idx])\n",
        "        return item\n",
        "\n",
        "    def __len__(self):\n",
        "        return len(self.emotion)\n",
        "\n",
        "fr_train_dataset_ = CustomDataset(train_encodings, fr_train_dataset['emotion'])\n",
        "fr_test_dataset_ = CustomDataset(test_encodings, fr_test_dataset['emotion'])\n",
        "\"\"\""
      ]
    },
    {
      "cell_type": "code",
      "execution_count": null,
      "metadata": {
        "id": "cxd0UOLQbuj5"
      },
      "outputs": [],
      "source": [
        "#Model\n",
        "model_name = \"02shanky/finetuned-twitter-xlm-roberta-base-emotion\"\n",
        "model = XLMRobertaForSequenceClassification.from_pretrained ( model_name )\n",
        "#Let's freeze the model pre-trained weights\n",
        "for param in model.base_model.parameters():\n",
        "    param.requires_grad = False"
      ]
    },
    {
      "cell_type": "code",
      "execution_count": null,
      "metadata": {
        "id": "N8naZtrubuj5"
      },
      "outputs": [],
      "source": [
        "#Let's add a classifier layer to the model\n",
        "num_emotions = fr_train_dataset['emotion'].value_counts ().count() #5\n",
        "model.num_labels= num_emotions\n",
        "model.classifier = torch.nn.Linear (model.config.hidden_size, num_emotions )"
      ]
    },
    {
      "cell_type": "code",
      "execution_count": null,
      "metadata": {
        "id": "uAPuDQPlbuj6"
      },
      "outputs": [],
      "source": [
        "# Specify more parameters\n",
        "# model.classifier = torch.nn.Sequential(\n",
        "#     torch.nn.Linear(model.config.hidden_size, hidden_layer_size),\n",
        "#     torch.nn.ReLU(),\n",
        "#     torch.nn.Dropout(dropout_prob),\n",
        "#     torch.nn.Linear(hidden_layer_size, num_labels)\n",
        "# )"
      ]
    },
    {
      "cell_type": "code",
      "execution_count": null,
      "metadata": {
        "id": "cdNerifubuj6"
      },
      "outputs": [],
      "source": [
        "#Trianing parameters\n",
        "training_args = TrainingArguments (\n",
        "    per_device_train_batch_size= 1976,\n",
        "    num_train_epochs= 1,\n",
        "    evaluation_strategy= \"epoch\",\n",
        "    logging_dir=\"./log\",\n",
        "    output_dir= \"./output\"\n",
        " )"
      ]
    },
    {
      "cell_type": "code",
      "execution_count": null,
      "metadata": {
        "id": "FKd7-R45buj6"
      },
      "outputs": [],
      "source": [
        "#Our model doesn't return loss, so we need to specify to the trained how can he compute the loss\n",
        "class MyTrainer(Trainer):\n",
        "    def compute_loss(self, model, inputs, return_outputs=False):\n",
        "        labels = inputs.pop(\"labels\")\n",
        "        outputs = model(**inputs)\n",
        "        logits = outputs.logits\n",
        "        loss = self.loss_fn(logits, labels)\n",
        "        return (loss, outputs) if return_outputs else loss"
      ]
    },
    {
      "cell_type": "code",
      "execution_count": null,
      "metadata": {
        "id": "nPJA0jfbbuj6",
        "outputId": "8272b02d-0a62-4348-b1a0-1ab0c84bcafa"
      },
      "outputs": [],
      "source": [
        "#Initiating the trainer\n",
        "trainer = Trainer(\n",
        "    model=model,\n",
        "    args=training_args,\n",
        "    train_dataset=fr_train_dataset_,\n",
        "    eval_dataset=fr_test_dataset_,\n",
        "    #compute_metrics=None  # If you don't need metrics during training\n",
        ")\n",
        "#Training the model\n",
        "trainer.train ()"
      ]
    },
    {
      "cell_type": "code",
      "execution_count": null,
      "metadata": {
        "id": "7-99SH6_buj6"
      },
      "outputs": [],
      "source": [
        "# Évaluation du modèle\n",
        "trainer.evaluate()\n"
      ]
    },
    {
      "cell_type": "markdown",
      "metadata": {
        "id": "AZdIR98Abuj6"
      },
      "source": [
        "#### 2end Approch using Tensorflow  "
      ]
    },
    {
      "cell_type": "code",
      "execution_count": null,
      "metadata": {
        "id": "6CgOt65mbuj6"
      },
      "outputs": [],
      "source": [
        "#Packages\n",
        "from transformers import TFXLMRobertaForSequenceClassification, XLMRobertaTokenizer"
      ]
    },
    {
      "cell_type": "code",
      "execution_count": null,
      "metadata": {},
      "outputs": [],
      "source": [
        "#Spliting data\n",
        "data = data_01 [data_01['language'].isin ([\"arb\", \"ar\", \"egy\", \"arb_classic\"])]\n",
        "#Choosing only 3000 rows of emotion happy\n",
        "no_happy = data [ data.emotion.isin ( [\"happy\"] ) == False ]\n",
        "happy = data [ data.emotion.isin ( [\"happy\"] ) ][0: 3200]\n",
        "#Additional sad data \n",
        "arb_trans = data_01 [data_01['language'].isin ([\"arb-trans\"])]\n",
        "sad = arb_trans[ arb_trans.emotion.isin ( ['sad'] ) ][0: 1000]\n",
        "data = pd.concat ( [happy, no_happy, sad] )\n",
        "data = data.reset_index (drop= True)\n",
        "#data = data.drop ( columns = ['language'] )\n",
        "#Drop null values and columns with neutral as emotion\n",
        "data.dropna (inplace = True)\n",
        "index_to_delete = data[data['emotion'] == \"neutral\"].index\n",
        "data.drop ( index = index_to_delete, inplace = True )\n",
        "#drop duplicates values of column text\n",
        "data = data.drop_duplicates ( subset = \"text\" )\n",
        "train_dataset, test_dataset = train_test_split (data, test_size = 0.074, shuffle=True, random_state=42)\n",
        "print ( \"train_dataset size : \", train_dataset.shape )\n",
        "print ( \"test_dataset size : \", test_dataset.shape )"
      ]
    },
    {
      "cell_type": "code",
      "execution_count": null,
      "metadata": {},
      "outputs": [],
      "source": [
        "# Load model directly\n",
        "from transformers import AutoTokenizer, TFAutoModelForSequenceClassification\n",
        "\n",
        "tokenizer = AutoTokenizer.from_pretrained(\"hatemnoaman/bert-base-arabic-finetuned-emotion\")\n",
        "tf_model = TFAutoModelForSequenceClassification.from_pretrained(\"hatemnoaman/bert-base-arabic-finetuned-emotion\", from_pt = True)\n",
        "\n",
        "tf_model.layers[0].trainable = False \n",
        "tf_model.summary ()"
      ]
    },
    {
      "cell_type": "code",
      "execution_count": null,
      "metadata": {
        "colab": {
          "base_uri": "https://localhost:8080/",
          "height": 715,
          "referenced_widgets": [
            "0597c856cc7a49c0b601f9b7570df409",
            "cff6d140695a42869f02e8ea5c53e493",
            "8b15cf733f7a45c4a6c124393a95a4b1",
            "9f3124522da647638c540f2e9beb2c26",
            "f0a00ec3388a472cb3ad8e759d4e2b26",
            "fa06a4d13b76411b91f14fae06273e07",
            "766c4424e3124b869f95e4a2abbf3503",
            "e38327cde210476d8fbf42020f8aa4a3",
            "173272e9beb94109bd7f07c2217519e7",
            "4dd448cdfd034505a675aa8a0820778b",
            "6ed56b9e31d54d42af2937ec0ab5b652",
            "df27dbeb253f4f4a98c92fa3610ea633",
            "f4291856399a4439a7f4d58531be6fd6",
            "8e62730f28a042039f0ccb4e08f87920",
            "9470597886c34b0a90811ce0f4ea3e7c",
            "9f23087cd8fb45479215b9cb11c3e8f2",
            "8eaac2fa53e4452e8042d46aa567f753",
            "66185ba5d0724b9f8ee98debe98a3ac0",
            "c4c86b1b96f646a59b5f57a12a344322",
            "3d22af2f50a44695b4166974ece678e2",
            "536fcab2308d49919fa34c5852e3076e",
            "d2c0c4a2f2ea4b2a9fb9748aace5dc2d",
            "e7093e1ca500417ea964eb4bed545f02",
            "723e08c7764c4c0b90ab5759b1171a37",
            "d98a1027b4764422a087f505347d6ddd",
            "ed51b44765a94c478c7ce6e2d4a3365a",
            "71c4c1456e9a4e5b8e857431ca217ade",
            "c08cb4e3e16c4d368172ff54167a8bc2",
            "ea32b2ee367d4257a2dbc9fa8cbea8cf",
            "01e29ac0bf104728ab2b32ce3490da08",
            "e8ee4a6fd923419988aaa1e7507044f0",
            "7b27a63c6ceb4b0290ef7837d5c61601",
            "7418ffc3b78345cca6210a7de9de2296",
            "5640f25ae43e450fa1c3583ad73c87ae",
            "b762e05fea9f4881a25b66e0dafdf184",
            "54f2620698e64ddeaa7239bde841c2e0",
            "936b584b924f4ba3af5e9d93b95383e7",
            "947d4aed878f40b4b387cc676a6b5629",
            "d2ceab2db6744919b64b065fbc9302bf",
            "bab8419937e04742a5a39e1e837b7ba5",
            "63623e1e9c2c4a1dab2115e4b5b1cf81",
            "d66349a2c51e4415a3fdb370be48eb4e",
            "eab5d70cbd6d43fb9ab716ecefac6095",
            "c0682ec455f44124bee7b48bfd975997",
            "3f2e25bc986343d98d3dab8902beb90d",
            "9d998f8d05824cc59d4b5458cbd2df7e",
            "ade242376f8646ffa5fff58274aeefc8",
            "7a76643cb3744f0ca5b1a4a0ce5a0bbd",
            "f661f4811a6a47389237563f68dceb92",
            "ca20efa252b34cfdb3f84076a91108fd",
            "17d836b1cb4f407eb30348a0cfb89084",
            "f54cd1f70cb0419fa0f85e828e622e83",
            "ffcca1f6970e4e39a534d7fb2b94d16d",
            "175c9fbd6726482d8ed46c7374bf5c8d",
            "61773641af914e6399c7b682bc8c4a08",
            "90e6f2d39a7d481987d170e61b102171",
            "94324da1e9d24fcfbad203eaf4751a5f",
            "f0788ef1ffd848bfbd7154d3b1178206",
            "a6b9c775d71043e6a8fca45d70eba96c",
            "f715078d02e84d3abed5fb4ba3a08571",
            "12d5f109b5fc40aa8960e4f45c2a3b82",
            "fd02213581864c48b8efa525792db89a",
            "896eab3c3ea54c9e8b51289cfe0e3ed2",
            "431072872b42479c9149c01e837b53e3",
            "e5af959cdf2048018278fb68224e3421",
            "a78eed640e4b4ed588c379ac411064e4"
          ]
        },
        "id": "xRcB7_XUbuj7",
        "outputId": "e682951c-fa8f-4d3d-b0dc-555e96e21157"
      },
      "outputs": [],
      "source": [
        "# Extracting Model and Tokenizer\n",
        "model_name = \"02shanky/finetuned-twitter-xlm-roberta-base-emotion\"\n",
        "tokenizer = XLMRobertaTokenizer.from_pretrained (model_name)\n",
        "tf_model = TFXLMRobertaForSequenceClassification.from_pretrained (model_name, from_pt = True)\n",
        "\n",
        "tf_model.layers[0].trainable = False\n",
        "\n",
        "#Model architecture\n",
        "#tf_model.summary ()"
      ]
    },
    {
      "cell_type": "code",
      "execution_count": null,
      "metadata": {
        "colab": {
          "base_uri": "https://localhost:8080/"
        },
        "id": "gTs90U-ebuj7",
        "outputId": "dd13a757-da2f-42fa-b291-c76876161db8"
      },
      "outputs": [],
      "source": [
        "#Tokenizing the dataset\n",
        "max_length = 500\n",
        "train_inputs = tokenizer(train_dataset['text'].tolist(), padding=True, truncation=True, max_length = max_length, return_tensors=\"tf\")\n",
        "#val_inputs = tokenizer(val_dataset['text'].tolist(), padding=True, truncation=True, max_length = max_length, return_tensors=\"tf\")\n",
        "test_inputs = tokenizer(test_dataset['text'].tolist(), padding=True, truncation=True, max_length = max_length, return_tensors=\"tf\")\n",
        "\n",
        "#Let's encode the emotion column [emotion <--> label]\n",
        "emotion_to_num = {\"happy\": 0, \"sad\": 1, \"angry\": 2, \"fear\": 3, \"surprised\": 4, 'neutral': 5}\n",
        "num_to_emotion = {0: \"happy\", 1: \"sad\", 2: \"angry\", 3: \"fear\", 4: \"surprised\", 5: \"neutral\"}\n",
        "train_labels = [emotion_to_num[emotion] for emotion in train_dataset['emotion']]\n",
        "#val_labels = [emotion_to_num[emotion] for emotion in val_dataset['emotion']]\n",
        "test_labels = [emotion_to_num[emotion] for emotion in test_dataset['emotion']]\n",
        "\n",
        "# Convert input data and labels to TensorFlow tensors\n",
        "train_inputs_tf = {'input_ids': tf.convert_to_tensor(train_inputs['input_ids']),\n",
        "                   'attention_mask': tf.convert_to_tensor(train_inputs['attention_mask'])}\n",
        "#val_inputs_tf = {'input_ids': tf.convert_to_tensor(val_inputs['input_ids']), 'attention_mask': tf.convert_to_tensor(val_inputs['attention_mask'])}\n",
        "test_inputs_tf = {'input_ids': tf.convert_to_tensor(test_inputs['input_ids']),\n",
        "                  'attention_mask': tf.convert_to_tensor(test_inputs['attention_mask'])}\n",
        "train_labels_tf = tf.convert_to_tensor(train_labels)\n",
        "#val_labels_tf = tf.convert_to_tensor(val_labels)\n",
        "test_labels_tf = tf.convert_to_tensor(test_labels)"
      ]
    },
    {
      "cell_type": "code",
      "execution_count": null,
      "metadata": {
        "id": "w7OtORx1buj7"
      },
      "outputs": [],
      "source": [
        "#Freezing the model weights before training\n",
        "for layer in tf_model.layers:\n",
        "    layer.trainable = False\n",
        "\n",
        "#Unfreezing some of the model layers to be trained\n",
        "num_of_trainable_layers = 4\n",
        "for layer in tf_model.roberta.encoder.layer [-num_of_trainable_layers:]:\n",
        "    layer.trainable = True"
      ]
    },
    {
      "cell_type": "code",
      "execution_count": null,
      "metadata": {
        "id": "zDu5KC4dbuj7"
      },
      "outputs": [],
      "source": [
        "#Defining a new classificatoin layer to be added to the end of the model\n",
        "num_emotions = train_dataset['emotion'].value_counts ().count()  #num_emotions = 6\n",
        "num_unit_1 = 256\n",
        "num_unit_2 = 256\n",
        "layer_1 = tf.keras.layers.Dense ( num_unit_1, activation = \"relu\", name = 'fully_connected_layer1' )\n",
        "#layer_2 = tf.keras.layers.Dense (num_unit_2, activation = \"relu\", name = 'fully_connected_layer2')\n",
        "classification_layer = tf.keras.layers.Dense ( num_emotions , activation='softmax', name='arb_classification_layer' )"
      ]
    },
    {
      "cell_type": "code",
      "execution_count": null,
      "metadata": {
        "id": "oyYg3-3Cbuj7"
      },
      "outputs": [],
      "source": [
        "#Inputs and Attention mask layers\n",
        "input_ids = tf.keras.Input (shape =(None,), dtype=tf.int32, name = 'input_ids')\n",
        "attention_mask_input = tf.keras.Input (shape= (None,), dtype=tf.int32, name = 'attention_mask')\n",
        "\n",
        "#inputs = tf.convert_to_tensor(input_ids)\n",
        "#attention_mask = tf.convert_to_tensor(attention_mask_input)\n",
        "\n",
        "# Pass the input through the pre-trained model layers\n",
        "#outputs = tf_model({'input_ids': input_ids, 'attention_mask': attention_mask_input})\n",
        "outputs = tf_model.bert ({'input_ids': input_ids, 'attention_mask': attention_mask_input})\n",
        "\n",
        "#Extracting the pooled output\n",
        "pooled_output = outputs.last_hidden_state [:, 0, :]\n",
        "\n",
        "#Passing the model output through the classification layer\n",
        "classification_output = classification_layer ( layer_1 (pooled_output))\n",
        "\n",
        "#Building the final model\n",
        "final_model = tf.keras.Model ( inputs = [input_ids, attention_mask_input], outputs = classification_output )"
      ]
    },
    {
      "cell_type": "code",
      "execution_count": null,
      "metadata": {
        "id": "iF2dK7rObuj7"
      },
      "outputs": [],
      "source": [
        "#Compile the model\n",
        "lr_rate = 2e-4\n",
        "optimizer = tf.keras.optimizers.Adam ( learning_rate = lr_rate )\n",
        "loss = tf.keras.losses.SparseCategoricalCrossentropy ()\n",
        "metrics = ['accuracy']\n",
        "final_model.compile ( optimizer = optimizer, loss= loss, metrics= metrics )"
      ]
    },
    {
      "cell_type": "code",
      "execution_count": null,
      "metadata": {
        "id": "GO13FxdCbuj7"
      },
      "outputs": [],
      "source": [
        "#final model architecture\n",
        "final_model.summary ()"
      ]
    },
    {
      "cell_type": "code",
      "execution_count": null,
      "metadata": {
        "colab": {
          "base_uri": "https://localhost:8080/",
          "height": 391
        },
        "id": "tC8DIzl1dA4V",
        "outputId": "11e1b2eb-932e-41d6-9548-22e13eced8fd"
      },
      "outputs": [],
      "source": [
        "#Load an existing model\n",
        "final_model = tf.keras.models.load_model ( 'D:/Users/chatbot_emotions_detection/artifacts/experiments_models/arabic_bert_final_model', custom_objects={'TFXLMRobertaForSequenceClassification': TFXLMRobertaForSequenceClassification} )\n",
        "final_model.layers[2].trainable = False\n",
        "#final_model.layers[3].trainable = False\n",
        "#Adding new classification layer with 6 outputs to our model \n",
        "\"\"\"outputs = final_model.output\n",
        "arb_classification_layer = classification_layer ( outputs )\n",
        "arb_final_model = tf.keras.Model (inputs = final_model.input, outputs = arb_classification_layer)\"\"\"\n",
        "final_model.summary ()"
      ]
    },
    {
      "cell_type": "code",
      "execution_count": null,
      "metadata": {},
      "outputs": [],
      "source": [
        "from transformers import TFAutoModelForSequenceClassification"
      ]
    },
    {
      "cell_type": "code",
      "execution_count": null,
      "metadata": {},
      "outputs": [],
      "source": [
        "tf.keras.models.load_model ( 'D:/Users/chatbot_emotions_detection/artifacts/experiments_models/arabic_bert_final_model',\n",
        "                            custom_objects = { 'TFAutoModelForSequenceClassification': TFAutoModelForSequenceClassification } )"
      ]
    },
    {
      "cell_type": "code",
      "execution_count": null,
      "metadata": {
        "id": "6Ni7ID6vbuj7"
      },
      "outputs": [],
      "source": [
        "#Training the model\n",
        "num_epochs = 1\n",
        "history = final_model.fit(\n",
        "    {'input_ids': train_inputs_tf ['input_ids'], 'attention_mask': train_inputs_tf['attention_mask']},\n",
        "    train_labels_tf,\n",
        "    validation_data=({'input_ids': test_inputs_tf['input_ids'], 'attention_mask': test_inputs_tf['attention_mask']}, test_labels_tf),\n",
        "    batch_size=8,\n",
        "    epochs= num_epochs\n",
        ")"
      ]
    },
    {
      "cell_type": "code",
      "execution_count": null,
      "metadata": {
        "id": "KfiuNdqpbuj8",
        "outputId": "90bbdae4-c2fd-443a-fe34-ee50dea5a89f"
      },
      "outputs": [],
      "source": [
        "#Let's compute the F1 score\n",
        "y_predicted_prob = test_model.predict ( test_inputs_tf )\n",
        "y_predicted = np.argmax ( y_predicted_prob, axis = 1 )\n",
        "\n",
        "#Computing F1 score and accuracy\n",
        "F1_score = f1_score ( test_labels, y_predicted, average = 'macro')\n",
        "Accuracy_score = accuracy_score ( test_labels, y_predicted )\n",
        "\n",
        "#Precision and recall\n",
        "precision = precision_score (test_labels, y_predicted, average = 'macro')\n",
        "recall = recall_score (test_labels, y_predicted, average= 'macro')\n",
        "\n",
        "print ( f\"F1 score on test data : {F1_score}\")\n",
        "print ( f\"Accuracy score on test data: {Accuracy_score}\")\n",
        "print ( f\"Precision score on test data: {precision}\")\n",
        "print ( f\"Recall score on test data: {recall}\")"
      ]
    },
    {
      "cell_type": "code",
      "execution_count": null,
      "metadata": {
        "id": "GV4WkOq8buj8"
      },
      "outputs": [],
      "source": [
        "#Storing metrics values\n",
        "shot = 23\n",
        "shot = shot+1\n",
        "accuracy_historical = {}\n",
        "accuracy_historical[f'shot{shot}'] = {'training size': train_dataset.shape [0],\n",
        "                                      'added layers': 2,\n",
        "                                      'num unit': num_unit_1,\n",
        "                                      'epochs': 3,\n",
        "                                      'learning rate': lr_rate,\n",
        "                                      'accuracy': Accuracy_score,\n",
        "                                      'f1 score': F1_score,\n",
        "                                       'precision': precision,\n",
        "                                        'recall': recall }\n",
        "\n",
        "#Storing the accuracy historincal in our local\n",
        "with open ( 'D:/Users/chatbot_emotions_detection/artifacts/accuracy_historical_arb.txt', 'a' ) as file:\n",
        "    for key, value in accuracy_historical.items():\n",
        "        file.write ( f'{key} : {value} \\n' )"
      ]
    },
    {
      "cell_type": "code",
      "execution_count": null,
      "metadata": {
        "id": "LFa8PM0ibuj8"
      },
      "outputs": [],
      "source": [
        "#Let's story history results in case we want to retrain the model multiplt times\n",
        "#history_ = {'loss': [], 'val_loss': []}\n",
        "try : \n",
        "    history_['loss'] += history.history['loss']\n",
        "    history_['val_loss'] += history.history['val_loss']\n",
        "except:\n",
        "    history_ = {}\n",
        "    history_['loss'] = history.history['loss']\n",
        "    history_['val_loss'] = history.history['val_loss']"
      ]
    },
    {
      "cell_type": "code",
      "execution_count": null,
      "metadata": {
        "id": "OJb_8i7gbuj8",
        "outputId": "e86b524b-7f14-46aa-ae77-91919963360a"
      },
      "outputs": [],
      "source": [
        "#Ploting the loss\n",
        "plt.plot ( range (len (history_['loss'])), history_['loss'] )\n",
        "plt.plot ( range (len (history_['val_loss'])), history_['val_loss'] )\n",
        "plt.xlabel ( 'Epochs' )\n",
        "plt.ylabel ('loss')\n",
        "plt.legend ( ['loss', 'vlaidation loss'] )"
      ]
    },
    {
      "cell_type": "code",
      "execution_count": null,
      "metadata": {},
      "outputs": [],
      "source": [
        "#Storing the model\n",
        "final_model.save ( \"D:/Users/chatbot_emotions_detection/artifacts/experiments_models/arabic_bert_local\" )"
      ]
    },
    {
      "cell_type": "markdown",
      "metadata": {},
      "source": [
        "#### Inferences"
      ]
    },
    {
      "cell_type": "code",
      "execution_count": 36,
      "metadata": {},
      "outputs": [],
      "source": [
        "import tensorflow as tf"
      ]
    },
    {
      "cell_type": "code",
      "execution_count": null,
      "metadata": {},
      "outputs": [],
      "source": [
        "#Function that predict emotion from a text\n",
        "def predict_emotion ( text: list ):\n",
        "    if type(text) != list:\n",
        "        text = [text]\n",
        "\n",
        "    tokenized_text = tokenizer ( text, padding = True, truncation= True, max_length = 500, return_tensors = 'tf' )\n",
        "    tokenized_text = { 'input_ids': tokenized_text[\"input_ids\"],\n",
        "                    'attention_mask': tokenized_text[\"attention_mask\"] }\n",
        "    predicted_emotions_probabilitie = test_model.predict ( tokenized_text )\n",
        "    #predicted_emotion = predicted_emotions_probabilitie\n",
        "    emotion =  list (predicted_emotions_probabilitie.argmax( axis = 1 ))\n",
        "    for i in range ( len(text) ):\n",
        "        print ( f\"Emotoin of text : {text[i]} is << {num_to_emotion [emotion[i]]} >>\" ) \n"
      ]
    }
  ],
  "metadata": {
    "accelerator": "GPU",
    "colab": {
      "collapsed_sections": [
        "xC686zHVbujv",
        "02KD2u-Ibuj5"
      ],
      "gpuType": "T4",
      "provenance": []
    },
    "kernelspec": {
      "display_name": "Python 3",
      "name": "python3"
    },
    "language_info": {
      "codemirror_mode": {
        "name": "ipython",
        "version": 3
      },
      "file_extension": ".py",
      "mimetype": "text/x-python",
      "name": "python",
      "nbconvert_exporter": "python",
      "pygments_lexer": "ipython3",
      "version": "3.12.2"
    },
    "widgets": {
      "application/vnd.jupyter.widget-state+json": {
        "01e29ac0bf104728ab2b32ce3490da08": {
          "model_module": "@jupyter-widgets/base",
          "model_module_version": "1.2.0",
          "model_name": "LayoutModel",
          "state": {
            "_model_module": "@jupyter-widgets/base",
            "_model_module_version": "1.2.0",
            "_model_name": "LayoutModel",
            "_view_count": null,
            "_view_module": "@jupyter-widgets/base",
            "_view_module_version": "1.2.0",
            "_view_name": "LayoutView",
            "align_content": null,
            "align_items": null,
            "align_self": null,
            "border": null,
            "bottom": null,
            "display": null,
            "flex": null,
            "flex_flow": null,
            "grid_area": null,
            "grid_auto_columns": null,
            "grid_auto_flow": null,
            "grid_auto_rows": null,
            "grid_column": null,
            "grid_gap": null,
            "grid_row": null,
            "grid_template_areas": null,
            "grid_template_columns": null,
            "grid_template_rows": null,
            "height": null,
            "justify_content": null,
            "justify_items": null,
            "left": null,
            "margin": null,
            "max_height": null,
            "max_width": null,
            "min_height": null,
            "min_width": null,
            "object_fit": null,
            "object_position": null,
            "order": null,
            "overflow": null,
            "overflow_x": null,
            "overflow_y": null,
            "padding": null,
            "right": null,
            "top": null,
            "visibility": null,
            "width": null
          }
        },
        "0597c856cc7a49c0b601f9b7570df409": {
          "model_module": "@jupyter-widgets/controls",
          "model_module_version": "1.5.0",
          "model_name": "HBoxModel",
          "state": {
            "_dom_classes": [],
            "_model_module": "@jupyter-widgets/controls",
            "_model_module_version": "1.5.0",
            "_model_name": "HBoxModel",
            "_view_count": null,
            "_view_module": "@jupyter-widgets/controls",
            "_view_module_version": "1.5.0",
            "_view_name": "HBoxView",
            "box_style": "",
            "children": [
              "IPY_MODEL_cff6d140695a42869f02e8ea5c53e493",
              "IPY_MODEL_8b15cf733f7a45c4a6c124393a95a4b1",
              "IPY_MODEL_9f3124522da647638c540f2e9beb2c26"
            ],
            "layout": "IPY_MODEL_f0a00ec3388a472cb3ad8e759d4e2b26"
          }
        },
        "12d5f109b5fc40aa8960e4f45c2a3b82": {
          "model_module": "@jupyter-widgets/base",
          "model_module_version": "1.2.0",
          "model_name": "LayoutModel",
          "state": {
            "_model_module": "@jupyter-widgets/base",
            "_model_module_version": "1.2.0",
            "_model_name": "LayoutModel",
            "_view_count": null,
            "_view_module": "@jupyter-widgets/base",
            "_view_module_version": "1.2.0",
            "_view_name": "LayoutView",
            "align_content": null,
            "align_items": null,
            "align_self": null,
            "border": null,
            "bottom": null,
            "display": null,
            "flex": null,
            "flex_flow": null,
            "grid_area": null,
            "grid_auto_columns": null,
            "grid_auto_flow": null,
            "grid_auto_rows": null,
            "grid_column": null,
            "grid_gap": null,
            "grid_row": null,
            "grid_template_areas": null,
            "grid_template_columns": null,
            "grid_template_rows": null,
            "height": null,
            "justify_content": null,
            "justify_items": null,
            "left": null,
            "margin": null,
            "max_height": null,
            "max_width": null,
            "min_height": null,
            "min_width": null,
            "object_fit": null,
            "object_position": null,
            "order": null,
            "overflow": null,
            "overflow_x": null,
            "overflow_y": null,
            "padding": null,
            "right": null,
            "top": null,
            "visibility": null,
            "width": null
          }
        },
        "173272e9beb94109bd7f07c2217519e7": {
          "model_module": "@jupyter-widgets/controls",
          "model_module_version": "1.5.0",
          "model_name": "ProgressStyleModel",
          "state": {
            "_model_module": "@jupyter-widgets/controls",
            "_model_module_version": "1.5.0",
            "_model_name": "ProgressStyleModel",
            "_view_count": null,
            "_view_module": "@jupyter-widgets/base",
            "_view_module_version": "1.2.0",
            "_view_name": "StyleView",
            "bar_color": null,
            "description_width": ""
          }
        },
        "175c9fbd6726482d8ed46c7374bf5c8d": {
          "model_module": "@jupyter-widgets/base",
          "model_module_version": "1.2.0",
          "model_name": "LayoutModel",
          "state": {
            "_model_module": "@jupyter-widgets/base",
            "_model_module_version": "1.2.0",
            "_model_name": "LayoutModel",
            "_view_count": null,
            "_view_module": "@jupyter-widgets/base",
            "_view_module_version": "1.2.0",
            "_view_name": "LayoutView",
            "align_content": null,
            "align_items": null,
            "align_self": null,
            "border": null,
            "bottom": null,
            "display": null,
            "flex": null,
            "flex_flow": null,
            "grid_area": null,
            "grid_auto_columns": null,
            "grid_auto_flow": null,
            "grid_auto_rows": null,
            "grid_column": null,
            "grid_gap": null,
            "grid_row": null,
            "grid_template_areas": null,
            "grid_template_columns": null,
            "grid_template_rows": null,
            "height": null,
            "justify_content": null,
            "justify_items": null,
            "left": null,
            "margin": null,
            "max_height": null,
            "max_width": null,
            "min_height": null,
            "min_width": null,
            "object_fit": null,
            "object_position": null,
            "order": null,
            "overflow": null,
            "overflow_x": null,
            "overflow_y": null,
            "padding": null,
            "right": null,
            "top": null,
            "visibility": null,
            "width": null
          }
        },
        "17d836b1cb4f407eb30348a0cfb89084": {
          "model_module": "@jupyter-widgets/controls",
          "model_module_version": "1.5.0",
          "model_name": "DescriptionStyleModel",
          "state": {
            "_model_module": "@jupyter-widgets/controls",
            "_model_module_version": "1.5.0",
            "_model_name": "DescriptionStyleModel",
            "_view_count": null,
            "_view_module": "@jupyter-widgets/base",
            "_view_module_version": "1.2.0",
            "_view_name": "StyleView",
            "description_width": ""
          }
        },
        "3d22af2f50a44695b4166974ece678e2": {
          "model_module": "@jupyter-widgets/controls",
          "model_module_version": "1.5.0",
          "model_name": "ProgressStyleModel",
          "state": {
            "_model_module": "@jupyter-widgets/controls",
            "_model_module_version": "1.5.0",
            "_model_name": "ProgressStyleModel",
            "_view_count": null,
            "_view_module": "@jupyter-widgets/base",
            "_view_module_version": "1.2.0",
            "_view_name": "StyleView",
            "bar_color": null,
            "description_width": ""
          }
        },
        "3f2e25bc986343d98d3dab8902beb90d": {
          "model_module": "@jupyter-widgets/controls",
          "model_module_version": "1.5.0",
          "model_name": "HBoxModel",
          "state": {
            "_dom_classes": [],
            "_model_module": "@jupyter-widgets/controls",
            "_model_module_version": "1.5.0",
            "_model_name": "HBoxModel",
            "_view_count": null,
            "_view_module": "@jupyter-widgets/controls",
            "_view_module_version": "1.5.0",
            "_view_name": "HBoxView",
            "box_style": "",
            "children": [
              "IPY_MODEL_9d998f8d05824cc59d4b5458cbd2df7e",
              "IPY_MODEL_ade242376f8646ffa5fff58274aeefc8",
              "IPY_MODEL_7a76643cb3744f0ca5b1a4a0ce5a0bbd"
            ],
            "layout": "IPY_MODEL_f661f4811a6a47389237563f68dceb92"
          }
        },
        "431072872b42479c9149c01e837b53e3": {
          "model_module": "@jupyter-widgets/controls",
          "model_module_version": "1.5.0",
          "model_name": "ProgressStyleModel",
          "state": {
            "_model_module": "@jupyter-widgets/controls",
            "_model_module_version": "1.5.0",
            "_model_name": "ProgressStyleModel",
            "_view_count": null,
            "_view_module": "@jupyter-widgets/base",
            "_view_module_version": "1.2.0",
            "_view_name": "StyleView",
            "bar_color": null,
            "description_width": ""
          }
        },
        "4dd448cdfd034505a675aa8a0820778b": {
          "model_module": "@jupyter-widgets/base",
          "model_module_version": "1.2.0",
          "model_name": "LayoutModel",
          "state": {
            "_model_module": "@jupyter-widgets/base",
            "_model_module_version": "1.2.0",
            "_model_name": "LayoutModel",
            "_view_count": null,
            "_view_module": "@jupyter-widgets/base",
            "_view_module_version": "1.2.0",
            "_view_name": "LayoutView",
            "align_content": null,
            "align_items": null,
            "align_self": null,
            "border": null,
            "bottom": null,
            "display": null,
            "flex": null,
            "flex_flow": null,
            "grid_area": null,
            "grid_auto_columns": null,
            "grid_auto_flow": null,
            "grid_auto_rows": null,
            "grid_column": null,
            "grid_gap": null,
            "grid_row": null,
            "grid_template_areas": null,
            "grid_template_columns": null,
            "grid_template_rows": null,
            "height": null,
            "justify_content": null,
            "justify_items": null,
            "left": null,
            "margin": null,
            "max_height": null,
            "max_width": null,
            "min_height": null,
            "min_width": null,
            "object_fit": null,
            "object_position": null,
            "order": null,
            "overflow": null,
            "overflow_x": null,
            "overflow_y": null,
            "padding": null,
            "right": null,
            "top": null,
            "visibility": null,
            "width": null
          }
        },
        "536fcab2308d49919fa34c5852e3076e": {
          "model_module": "@jupyter-widgets/base",
          "model_module_version": "1.2.0",
          "model_name": "LayoutModel",
          "state": {
            "_model_module": "@jupyter-widgets/base",
            "_model_module_version": "1.2.0",
            "_model_name": "LayoutModel",
            "_view_count": null,
            "_view_module": "@jupyter-widgets/base",
            "_view_module_version": "1.2.0",
            "_view_name": "LayoutView",
            "align_content": null,
            "align_items": null,
            "align_self": null,
            "border": null,
            "bottom": null,
            "display": null,
            "flex": null,
            "flex_flow": null,
            "grid_area": null,
            "grid_auto_columns": null,
            "grid_auto_flow": null,
            "grid_auto_rows": null,
            "grid_column": null,
            "grid_gap": null,
            "grid_row": null,
            "grid_template_areas": null,
            "grid_template_columns": null,
            "grid_template_rows": null,
            "height": null,
            "justify_content": null,
            "justify_items": null,
            "left": null,
            "margin": null,
            "max_height": null,
            "max_width": null,
            "min_height": null,
            "min_width": null,
            "object_fit": null,
            "object_position": null,
            "order": null,
            "overflow": null,
            "overflow_x": null,
            "overflow_y": null,
            "padding": null,
            "right": null,
            "top": null,
            "visibility": null,
            "width": null
          }
        },
        "54f2620698e64ddeaa7239bde841c2e0": {
          "model_module": "@jupyter-widgets/controls",
          "model_module_version": "1.5.0",
          "model_name": "FloatProgressModel",
          "state": {
            "_dom_classes": [],
            "_model_module": "@jupyter-widgets/controls",
            "_model_module_version": "1.5.0",
            "_model_name": "FloatProgressModel",
            "_view_count": null,
            "_view_module": "@jupyter-widgets/controls",
            "_view_module_version": "1.5.0",
            "_view_name": "ProgressView",
            "bar_style": "success",
            "description": "",
            "description_tooltip": null,
            "layout": "IPY_MODEL_63623e1e9c2c4a1dab2115e4b5b1cf81",
            "max": 17082660,
            "min": 0,
            "orientation": "horizontal",
            "style": "IPY_MODEL_d66349a2c51e4415a3fdb370be48eb4e",
            "value": 17082660
          }
        },
        "5640f25ae43e450fa1c3583ad73c87ae": {
          "model_module": "@jupyter-widgets/controls",
          "model_module_version": "1.5.0",
          "model_name": "HBoxModel",
          "state": {
            "_dom_classes": [],
            "_model_module": "@jupyter-widgets/controls",
            "_model_module_version": "1.5.0",
            "_model_name": "HBoxModel",
            "_view_count": null,
            "_view_module": "@jupyter-widgets/controls",
            "_view_module_version": "1.5.0",
            "_view_name": "HBoxView",
            "box_style": "",
            "children": [
              "IPY_MODEL_b762e05fea9f4881a25b66e0dafdf184",
              "IPY_MODEL_54f2620698e64ddeaa7239bde841c2e0",
              "IPY_MODEL_936b584b924f4ba3af5e9d93b95383e7"
            ],
            "layout": "IPY_MODEL_947d4aed878f40b4b387cc676a6b5629"
          }
        },
        "61773641af914e6399c7b682bc8c4a08": {
          "model_module": "@jupyter-widgets/controls",
          "model_module_version": "1.5.0",
          "model_name": "DescriptionStyleModel",
          "state": {
            "_model_module": "@jupyter-widgets/controls",
            "_model_module_version": "1.5.0",
            "_model_name": "DescriptionStyleModel",
            "_view_count": null,
            "_view_module": "@jupyter-widgets/base",
            "_view_module_version": "1.2.0",
            "_view_name": "StyleView",
            "description_width": ""
          }
        },
        "63623e1e9c2c4a1dab2115e4b5b1cf81": {
          "model_module": "@jupyter-widgets/base",
          "model_module_version": "1.2.0",
          "model_name": "LayoutModel",
          "state": {
            "_model_module": "@jupyter-widgets/base",
            "_model_module_version": "1.2.0",
            "_model_name": "LayoutModel",
            "_view_count": null,
            "_view_module": "@jupyter-widgets/base",
            "_view_module_version": "1.2.0",
            "_view_name": "LayoutView",
            "align_content": null,
            "align_items": null,
            "align_self": null,
            "border": null,
            "bottom": null,
            "display": null,
            "flex": null,
            "flex_flow": null,
            "grid_area": null,
            "grid_auto_columns": null,
            "grid_auto_flow": null,
            "grid_auto_rows": null,
            "grid_column": null,
            "grid_gap": null,
            "grid_row": null,
            "grid_template_areas": null,
            "grid_template_columns": null,
            "grid_template_rows": null,
            "height": null,
            "justify_content": null,
            "justify_items": null,
            "left": null,
            "margin": null,
            "max_height": null,
            "max_width": null,
            "min_height": null,
            "min_width": null,
            "object_fit": null,
            "object_position": null,
            "order": null,
            "overflow": null,
            "overflow_x": null,
            "overflow_y": null,
            "padding": null,
            "right": null,
            "top": null,
            "visibility": null,
            "width": null
          }
        },
        "66185ba5d0724b9f8ee98debe98a3ac0": {
          "model_module": "@jupyter-widgets/controls",
          "model_module_version": "1.5.0",
          "model_name": "DescriptionStyleModel",
          "state": {
            "_model_module": "@jupyter-widgets/controls",
            "_model_module_version": "1.5.0",
            "_model_name": "DescriptionStyleModel",
            "_view_count": null,
            "_view_module": "@jupyter-widgets/base",
            "_view_module_version": "1.2.0",
            "_view_name": "StyleView",
            "description_width": ""
          }
        },
        "6ed56b9e31d54d42af2937ec0ab5b652": {
          "model_module": "@jupyter-widgets/controls",
          "model_module_version": "1.5.0",
          "model_name": "DescriptionStyleModel",
          "state": {
            "_model_module": "@jupyter-widgets/controls",
            "_model_module_version": "1.5.0",
            "_model_name": "DescriptionStyleModel",
            "_view_count": null,
            "_view_module": "@jupyter-widgets/base",
            "_view_module_version": "1.2.0",
            "_view_name": "StyleView",
            "description_width": ""
          }
        },
        "71c4c1456e9a4e5b8e857431ca217ade": {
          "model_module": "@jupyter-widgets/base",
          "model_module_version": "1.2.0",
          "model_name": "LayoutModel",
          "state": {
            "_model_module": "@jupyter-widgets/base",
            "_model_module_version": "1.2.0",
            "_model_name": "LayoutModel",
            "_view_count": null,
            "_view_module": "@jupyter-widgets/base",
            "_view_module_version": "1.2.0",
            "_view_name": "LayoutView",
            "align_content": null,
            "align_items": null,
            "align_self": null,
            "border": null,
            "bottom": null,
            "display": null,
            "flex": null,
            "flex_flow": null,
            "grid_area": null,
            "grid_auto_columns": null,
            "grid_auto_flow": null,
            "grid_auto_rows": null,
            "grid_column": null,
            "grid_gap": null,
            "grid_row": null,
            "grid_template_areas": null,
            "grid_template_columns": null,
            "grid_template_rows": null,
            "height": null,
            "justify_content": null,
            "justify_items": null,
            "left": null,
            "margin": null,
            "max_height": null,
            "max_width": null,
            "min_height": null,
            "min_width": null,
            "object_fit": null,
            "object_position": null,
            "order": null,
            "overflow": null,
            "overflow_x": null,
            "overflow_y": null,
            "padding": null,
            "right": null,
            "top": null,
            "visibility": null,
            "width": null
          }
        },
        "723e08c7764c4c0b90ab5759b1171a37": {
          "model_module": "@jupyter-widgets/controls",
          "model_module_version": "1.5.0",
          "model_name": "HTMLModel",
          "state": {
            "_dom_classes": [],
            "_model_module": "@jupyter-widgets/controls",
            "_model_module_version": "1.5.0",
            "_model_name": "HTMLModel",
            "_view_count": null,
            "_view_module": "@jupyter-widgets/controls",
            "_view_module_version": "1.5.0",
            "_view_name": "HTMLView",
            "description": "",
            "description_tooltip": null,
            "layout": "IPY_MODEL_c08cb4e3e16c4d368172ff54167a8bc2",
            "placeholder": "​",
            "style": "IPY_MODEL_ea32b2ee367d4257a2dbc9fa8cbea8cf",
            "value": "special_tokens_map.json: 100%"
          }
        },
        "7418ffc3b78345cca6210a7de9de2296": {
          "model_module": "@jupyter-widgets/controls",
          "model_module_version": "1.5.0",
          "model_name": "DescriptionStyleModel",
          "state": {
            "_model_module": "@jupyter-widgets/controls",
            "_model_module_version": "1.5.0",
            "_model_name": "DescriptionStyleModel",
            "_view_count": null,
            "_view_module": "@jupyter-widgets/base",
            "_view_module_version": "1.2.0",
            "_view_name": "StyleView",
            "description_width": ""
          }
        },
        "766c4424e3124b869f95e4a2abbf3503": {
          "model_module": "@jupyter-widgets/controls",
          "model_module_version": "1.5.0",
          "model_name": "DescriptionStyleModel",
          "state": {
            "_model_module": "@jupyter-widgets/controls",
            "_model_module_version": "1.5.0",
            "_model_name": "DescriptionStyleModel",
            "_view_count": null,
            "_view_module": "@jupyter-widgets/base",
            "_view_module_version": "1.2.0",
            "_view_name": "StyleView",
            "description_width": ""
          }
        },
        "7a76643cb3744f0ca5b1a4a0ce5a0bbd": {
          "model_module": "@jupyter-widgets/controls",
          "model_module_version": "1.5.0",
          "model_name": "HTMLModel",
          "state": {
            "_dom_classes": [],
            "_model_module": "@jupyter-widgets/controls",
            "_model_module_version": "1.5.0",
            "_model_name": "HTMLModel",
            "_view_count": null,
            "_view_module": "@jupyter-widgets/controls",
            "_view_module_version": "1.5.0",
            "_view_name": "HTMLView",
            "description": "",
            "description_tooltip": null,
            "layout": "IPY_MODEL_175c9fbd6726482d8ed46c7374bf5c8d",
            "placeholder": "​",
            "style": "IPY_MODEL_61773641af914e6399c7b682bc8c4a08",
            "value": " 1.07k/1.07k [00:00&lt;00:00, 34.1kB/s]"
          }
        },
        "7b27a63c6ceb4b0290ef7837d5c61601": {
          "model_module": "@jupyter-widgets/base",
          "model_module_version": "1.2.0",
          "model_name": "LayoutModel",
          "state": {
            "_model_module": "@jupyter-widgets/base",
            "_model_module_version": "1.2.0",
            "_model_name": "LayoutModel",
            "_view_count": null,
            "_view_module": "@jupyter-widgets/base",
            "_view_module_version": "1.2.0",
            "_view_name": "LayoutView",
            "align_content": null,
            "align_items": null,
            "align_self": null,
            "border": null,
            "bottom": null,
            "display": null,
            "flex": null,
            "flex_flow": null,
            "grid_area": null,
            "grid_auto_columns": null,
            "grid_auto_flow": null,
            "grid_auto_rows": null,
            "grid_column": null,
            "grid_gap": null,
            "grid_row": null,
            "grid_template_areas": null,
            "grid_template_columns": null,
            "grid_template_rows": null,
            "height": null,
            "justify_content": null,
            "justify_items": null,
            "left": null,
            "margin": null,
            "max_height": null,
            "max_width": null,
            "min_height": null,
            "min_width": null,
            "object_fit": null,
            "object_position": null,
            "order": null,
            "overflow": null,
            "overflow_x": null,
            "overflow_y": null,
            "padding": null,
            "right": null,
            "top": null,
            "visibility": null,
            "width": null
          }
        },
        "896eab3c3ea54c9e8b51289cfe0e3ed2": {
          "model_module": "@jupyter-widgets/base",
          "model_module_version": "1.2.0",
          "model_name": "LayoutModel",
          "state": {
            "_model_module": "@jupyter-widgets/base",
            "_model_module_version": "1.2.0",
            "_model_name": "LayoutModel",
            "_view_count": null,
            "_view_module": "@jupyter-widgets/base",
            "_view_module_version": "1.2.0",
            "_view_name": "LayoutView",
            "align_content": null,
            "align_items": null,
            "align_self": null,
            "border": null,
            "bottom": null,
            "display": null,
            "flex": null,
            "flex_flow": null,
            "grid_area": null,
            "grid_auto_columns": null,
            "grid_auto_flow": null,
            "grid_auto_rows": null,
            "grid_column": null,
            "grid_gap": null,
            "grid_row": null,
            "grid_template_areas": null,
            "grid_template_columns": null,
            "grid_template_rows": null,
            "height": null,
            "justify_content": null,
            "justify_items": null,
            "left": null,
            "margin": null,
            "max_height": null,
            "max_width": null,
            "min_height": null,
            "min_width": null,
            "object_fit": null,
            "object_position": null,
            "order": null,
            "overflow": null,
            "overflow_x": null,
            "overflow_y": null,
            "padding": null,
            "right": null,
            "top": null,
            "visibility": null,
            "width": null
          }
        },
        "8b15cf733f7a45c4a6c124393a95a4b1": {
          "model_module": "@jupyter-widgets/controls",
          "model_module_version": "1.5.0",
          "model_name": "FloatProgressModel",
          "state": {
            "_dom_classes": [],
            "_model_module": "@jupyter-widgets/controls",
            "_model_module_version": "1.5.0",
            "_model_name": "FloatProgressModel",
            "_view_count": null,
            "_view_module": "@jupyter-widgets/controls",
            "_view_module_version": "1.5.0",
            "_view_name": "ProgressView",
            "bar_style": "success",
            "description": "",
            "description_tooltip": null,
            "layout": "IPY_MODEL_e38327cde210476d8fbf42020f8aa4a3",
            "max": 498,
            "min": 0,
            "orientation": "horizontal",
            "style": "IPY_MODEL_173272e9beb94109bd7f07c2217519e7",
            "value": 498
          }
        },
        "8e62730f28a042039f0ccb4e08f87920": {
          "model_module": "@jupyter-widgets/controls",
          "model_module_version": "1.5.0",
          "model_name": "FloatProgressModel",
          "state": {
            "_dom_classes": [],
            "_model_module": "@jupyter-widgets/controls",
            "_model_module_version": "1.5.0",
            "_model_name": "FloatProgressModel",
            "_view_count": null,
            "_view_module": "@jupyter-widgets/controls",
            "_view_module_version": "1.5.0",
            "_view_name": "ProgressView",
            "bar_style": "success",
            "description": "",
            "description_tooltip": null,
            "layout": "IPY_MODEL_c4c86b1b96f646a59b5f57a12a344322",
            "max": 5069051,
            "min": 0,
            "orientation": "horizontal",
            "style": "IPY_MODEL_3d22af2f50a44695b4166974ece678e2",
            "value": 5069051
          }
        },
        "8eaac2fa53e4452e8042d46aa567f753": {
          "model_module": "@jupyter-widgets/base",
          "model_module_version": "1.2.0",
          "model_name": "LayoutModel",
          "state": {
            "_model_module": "@jupyter-widgets/base",
            "_model_module_version": "1.2.0",
            "_model_name": "LayoutModel",
            "_view_count": null,
            "_view_module": "@jupyter-widgets/base",
            "_view_module_version": "1.2.0",
            "_view_name": "LayoutView",
            "align_content": null,
            "align_items": null,
            "align_self": null,
            "border": null,
            "bottom": null,
            "display": null,
            "flex": null,
            "flex_flow": null,
            "grid_area": null,
            "grid_auto_columns": null,
            "grid_auto_flow": null,
            "grid_auto_rows": null,
            "grid_column": null,
            "grid_gap": null,
            "grid_row": null,
            "grid_template_areas": null,
            "grid_template_columns": null,
            "grid_template_rows": null,
            "height": null,
            "justify_content": null,
            "justify_items": null,
            "left": null,
            "margin": null,
            "max_height": null,
            "max_width": null,
            "min_height": null,
            "min_width": null,
            "object_fit": null,
            "object_position": null,
            "order": null,
            "overflow": null,
            "overflow_x": null,
            "overflow_y": null,
            "padding": null,
            "right": null,
            "top": null,
            "visibility": null,
            "width": null
          }
        },
        "90e6f2d39a7d481987d170e61b102171": {
          "model_module": "@jupyter-widgets/controls",
          "model_module_version": "1.5.0",
          "model_name": "HBoxModel",
          "state": {
            "_dom_classes": [],
            "_model_module": "@jupyter-widgets/controls",
            "_model_module_version": "1.5.0",
            "_model_name": "HBoxModel",
            "_view_count": null,
            "_view_module": "@jupyter-widgets/controls",
            "_view_module_version": "1.5.0",
            "_view_name": "HBoxView",
            "box_style": "",
            "children": [
              "IPY_MODEL_94324da1e9d24fcfbad203eaf4751a5f",
              "IPY_MODEL_f0788ef1ffd848bfbd7154d3b1178206",
              "IPY_MODEL_a6b9c775d71043e6a8fca45d70eba96c"
            ],
            "layout": "IPY_MODEL_f715078d02e84d3abed5fb4ba3a08571"
          }
        },
        "936b584b924f4ba3af5e9d93b95383e7": {
          "model_module": "@jupyter-widgets/controls",
          "model_module_version": "1.5.0",
          "model_name": "HTMLModel",
          "state": {
            "_dom_classes": [],
            "_model_module": "@jupyter-widgets/controls",
            "_model_module_version": "1.5.0",
            "_model_name": "HTMLModel",
            "_view_count": null,
            "_view_module": "@jupyter-widgets/controls",
            "_view_module_version": "1.5.0",
            "_view_name": "HTMLView",
            "description": "",
            "description_tooltip": null,
            "layout": "IPY_MODEL_eab5d70cbd6d43fb9ab716ecefac6095",
            "placeholder": "​",
            "style": "IPY_MODEL_c0682ec455f44124bee7b48bfd975997",
            "value": " 17.1M/17.1M [00:00&lt;00:00, 59.0MB/s]"
          }
        },
        "94324da1e9d24fcfbad203eaf4751a5f": {
          "model_module": "@jupyter-widgets/controls",
          "model_module_version": "1.5.0",
          "model_name": "HTMLModel",
          "state": {
            "_dom_classes": [],
            "_model_module": "@jupyter-widgets/controls",
            "_model_module_version": "1.5.0",
            "_model_name": "HTMLModel",
            "_view_count": null,
            "_view_module": "@jupyter-widgets/controls",
            "_view_module_version": "1.5.0",
            "_view_name": "HTMLView",
            "description": "",
            "description_tooltip": null,
            "layout": "IPY_MODEL_12d5f109b5fc40aa8960e4f45c2a3b82",
            "placeholder": "​",
            "style": "IPY_MODEL_fd02213581864c48b8efa525792db89a",
            "value": "pytorch_model.bin: 100%"
          }
        },
        "9470597886c34b0a90811ce0f4ea3e7c": {
          "model_module": "@jupyter-widgets/controls",
          "model_module_version": "1.5.0",
          "model_name": "HTMLModel",
          "state": {
            "_dom_classes": [],
            "_model_module": "@jupyter-widgets/controls",
            "_model_module_version": "1.5.0",
            "_model_name": "HTMLModel",
            "_view_count": null,
            "_view_module": "@jupyter-widgets/controls",
            "_view_module_version": "1.5.0",
            "_view_name": "HTMLView",
            "description": "",
            "description_tooltip": null,
            "layout": "IPY_MODEL_536fcab2308d49919fa34c5852e3076e",
            "placeholder": "​",
            "style": "IPY_MODEL_d2c0c4a2f2ea4b2a9fb9748aace5dc2d",
            "value": " 5.07M/5.07M [00:00&lt;00:00, 59.2MB/s]"
          }
        },
        "947d4aed878f40b4b387cc676a6b5629": {
          "model_module": "@jupyter-widgets/base",
          "model_module_version": "1.2.0",
          "model_name": "LayoutModel",
          "state": {
            "_model_module": "@jupyter-widgets/base",
            "_model_module_version": "1.2.0",
            "_model_name": "LayoutModel",
            "_view_count": null,
            "_view_module": "@jupyter-widgets/base",
            "_view_module_version": "1.2.0",
            "_view_name": "LayoutView",
            "align_content": null,
            "align_items": null,
            "align_self": null,
            "border": null,
            "bottom": null,
            "display": null,
            "flex": null,
            "flex_flow": null,
            "grid_area": null,
            "grid_auto_columns": null,
            "grid_auto_flow": null,
            "grid_auto_rows": null,
            "grid_column": null,
            "grid_gap": null,
            "grid_row": null,
            "grid_template_areas": null,
            "grid_template_columns": null,
            "grid_template_rows": null,
            "height": null,
            "justify_content": null,
            "justify_items": null,
            "left": null,
            "margin": null,
            "max_height": null,
            "max_width": null,
            "min_height": null,
            "min_width": null,
            "object_fit": null,
            "object_position": null,
            "order": null,
            "overflow": null,
            "overflow_x": null,
            "overflow_y": null,
            "padding": null,
            "right": null,
            "top": null,
            "visibility": null,
            "width": null
          }
        },
        "9d998f8d05824cc59d4b5458cbd2df7e": {
          "model_module": "@jupyter-widgets/controls",
          "model_module_version": "1.5.0",
          "model_name": "HTMLModel",
          "state": {
            "_dom_classes": [],
            "_model_module": "@jupyter-widgets/controls",
            "_model_module_version": "1.5.0",
            "_model_name": "HTMLModel",
            "_view_count": null,
            "_view_module": "@jupyter-widgets/controls",
            "_view_module_version": "1.5.0",
            "_view_name": "HTMLView",
            "description": "",
            "description_tooltip": null,
            "layout": "IPY_MODEL_ca20efa252b34cfdb3f84076a91108fd",
            "placeholder": "​",
            "style": "IPY_MODEL_17d836b1cb4f407eb30348a0cfb89084",
            "value": "config.json: 100%"
          }
        },
        "9f23087cd8fb45479215b9cb11c3e8f2": {
          "model_module": "@jupyter-widgets/base",
          "model_module_version": "1.2.0",
          "model_name": "LayoutModel",
          "state": {
            "_model_module": "@jupyter-widgets/base",
            "_model_module_version": "1.2.0",
            "_model_name": "LayoutModel",
            "_view_count": null,
            "_view_module": "@jupyter-widgets/base",
            "_view_module_version": "1.2.0",
            "_view_name": "LayoutView",
            "align_content": null,
            "align_items": null,
            "align_self": null,
            "border": null,
            "bottom": null,
            "display": null,
            "flex": null,
            "flex_flow": null,
            "grid_area": null,
            "grid_auto_columns": null,
            "grid_auto_flow": null,
            "grid_auto_rows": null,
            "grid_column": null,
            "grid_gap": null,
            "grid_row": null,
            "grid_template_areas": null,
            "grid_template_columns": null,
            "grid_template_rows": null,
            "height": null,
            "justify_content": null,
            "justify_items": null,
            "left": null,
            "margin": null,
            "max_height": null,
            "max_width": null,
            "min_height": null,
            "min_width": null,
            "object_fit": null,
            "object_position": null,
            "order": null,
            "overflow": null,
            "overflow_x": null,
            "overflow_y": null,
            "padding": null,
            "right": null,
            "top": null,
            "visibility": null,
            "width": null
          }
        },
        "9f3124522da647638c540f2e9beb2c26": {
          "model_module": "@jupyter-widgets/controls",
          "model_module_version": "1.5.0",
          "model_name": "HTMLModel",
          "state": {
            "_dom_classes": [],
            "_model_module": "@jupyter-widgets/controls",
            "_model_module_version": "1.5.0",
            "_model_name": "HTMLModel",
            "_view_count": null,
            "_view_module": "@jupyter-widgets/controls",
            "_view_module_version": "1.5.0",
            "_view_name": "HTMLView",
            "description": "",
            "description_tooltip": null,
            "layout": "IPY_MODEL_4dd448cdfd034505a675aa8a0820778b",
            "placeholder": "​",
            "style": "IPY_MODEL_6ed56b9e31d54d42af2937ec0ab5b652",
            "value": " 498/498 [00:00&lt;00:00, 25.3kB/s]"
          }
        },
        "a6b9c775d71043e6a8fca45d70eba96c": {
          "model_module": "@jupyter-widgets/controls",
          "model_module_version": "1.5.0",
          "model_name": "HTMLModel",
          "state": {
            "_dom_classes": [],
            "_model_module": "@jupyter-widgets/controls",
            "_model_module_version": "1.5.0",
            "_model_name": "HTMLModel",
            "_view_count": null,
            "_view_module": "@jupyter-widgets/controls",
            "_view_module_version": "1.5.0",
            "_view_name": "HTMLView",
            "description": "",
            "description_tooltip": null,
            "layout": "IPY_MODEL_e5af959cdf2048018278fb68224e3421",
            "placeholder": "​",
            "style": "IPY_MODEL_a78eed640e4b4ed588c379ac411064e4",
            "value": " 1.11G/1.11G [00:12&lt;00:00, 48.5MB/s]"
          }
        },
        "a78eed640e4b4ed588c379ac411064e4": {
          "model_module": "@jupyter-widgets/controls",
          "model_module_version": "1.5.0",
          "model_name": "DescriptionStyleModel",
          "state": {
            "_model_module": "@jupyter-widgets/controls",
            "_model_module_version": "1.5.0",
            "_model_name": "DescriptionStyleModel",
            "_view_count": null,
            "_view_module": "@jupyter-widgets/base",
            "_view_module_version": "1.2.0",
            "_view_name": "StyleView",
            "description_width": ""
          }
        },
        "ade242376f8646ffa5fff58274aeefc8": {
          "model_module": "@jupyter-widgets/controls",
          "model_module_version": "1.5.0",
          "model_name": "FloatProgressModel",
          "state": {
            "_dom_classes": [],
            "_model_module": "@jupyter-widgets/controls",
            "_model_module_version": "1.5.0",
            "_model_name": "FloatProgressModel",
            "_view_count": null,
            "_view_module": "@jupyter-widgets/controls",
            "_view_module_version": "1.5.0",
            "_view_name": "ProgressView",
            "bar_style": "success",
            "description": "",
            "description_tooltip": null,
            "layout": "IPY_MODEL_f54cd1f70cb0419fa0f85e828e622e83",
            "max": 1070,
            "min": 0,
            "orientation": "horizontal",
            "style": "IPY_MODEL_ffcca1f6970e4e39a534d7fb2b94d16d",
            "value": 1070
          }
        },
        "b762e05fea9f4881a25b66e0dafdf184": {
          "model_module": "@jupyter-widgets/controls",
          "model_module_version": "1.5.0",
          "model_name": "HTMLModel",
          "state": {
            "_dom_classes": [],
            "_model_module": "@jupyter-widgets/controls",
            "_model_module_version": "1.5.0",
            "_model_name": "HTMLModel",
            "_view_count": null,
            "_view_module": "@jupyter-widgets/controls",
            "_view_module_version": "1.5.0",
            "_view_name": "HTMLView",
            "description": "",
            "description_tooltip": null,
            "layout": "IPY_MODEL_d2ceab2db6744919b64b065fbc9302bf",
            "placeholder": "​",
            "style": "IPY_MODEL_bab8419937e04742a5a39e1e837b7ba5",
            "value": "tokenizer.json: 100%"
          }
        },
        "bab8419937e04742a5a39e1e837b7ba5": {
          "model_module": "@jupyter-widgets/controls",
          "model_module_version": "1.5.0",
          "model_name": "DescriptionStyleModel",
          "state": {
            "_model_module": "@jupyter-widgets/controls",
            "_model_module_version": "1.5.0",
            "_model_name": "DescriptionStyleModel",
            "_view_count": null,
            "_view_module": "@jupyter-widgets/base",
            "_view_module_version": "1.2.0",
            "_view_name": "StyleView",
            "description_width": ""
          }
        },
        "c0682ec455f44124bee7b48bfd975997": {
          "model_module": "@jupyter-widgets/controls",
          "model_module_version": "1.5.0",
          "model_name": "DescriptionStyleModel",
          "state": {
            "_model_module": "@jupyter-widgets/controls",
            "_model_module_version": "1.5.0",
            "_model_name": "DescriptionStyleModel",
            "_view_count": null,
            "_view_module": "@jupyter-widgets/base",
            "_view_module_version": "1.2.0",
            "_view_name": "StyleView",
            "description_width": ""
          }
        },
        "c08cb4e3e16c4d368172ff54167a8bc2": {
          "model_module": "@jupyter-widgets/base",
          "model_module_version": "1.2.0",
          "model_name": "LayoutModel",
          "state": {
            "_model_module": "@jupyter-widgets/base",
            "_model_module_version": "1.2.0",
            "_model_name": "LayoutModel",
            "_view_count": null,
            "_view_module": "@jupyter-widgets/base",
            "_view_module_version": "1.2.0",
            "_view_name": "LayoutView",
            "align_content": null,
            "align_items": null,
            "align_self": null,
            "border": null,
            "bottom": null,
            "display": null,
            "flex": null,
            "flex_flow": null,
            "grid_area": null,
            "grid_auto_columns": null,
            "grid_auto_flow": null,
            "grid_auto_rows": null,
            "grid_column": null,
            "grid_gap": null,
            "grid_row": null,
            "grid_template_areas": null,
            "grid_template_columns": null,
            "grid_template_rows": null,
            "height": null,
            "justify_content": null,
            "justify_items": null,
            "left": null,
            "margin": null,
            "max_height": null,
            "max_width": null,
            "min_height": null,
            "min_width": null,
            "object_fit": null,
            "object_position": null,
            "order": null,
            "overflow": null,
            "overflow_x": null,
            "overflow_y": null,
            "padding": null,
            "right": null,
            "top": null,
            "visibility": null,
            "width": null
          }
        },
        "c4c86b1b96f646a59b5f57a12a344322": {
          "model_module": "@jupyter-widgets/base",
          "model_module_version": "1.2.0",
          "model_name": "LayoutModel",
          "state": {
            "_model_module": "@jupyter-widgets/base",
            "_model_module_version": "1.2.0",
            "_model_name": "LayoutModel",
            "_view_count": null,
            "_view_module": "@jupyter-widgets/base",
            "_view_module_version": "1.2.0",
            "_view_name": "LayoutView",
            "align_content": null,
            "align_items": null,
            "align_self": null,
            "border": null,
            "bottom": null,
            "display": null,
            "flex": null,
            "flex_flow": null,
            "grid_area": null,
            "grid_auto_columns": null,
            "grid_auto_flow": null,
            "grid_auto_rows": null,
            "grid_column": null,
            "grid_gap": null,
            "grid_row": null,
            "grid_template_areas": null,
            "grid_template_columns": null,
            "grid_template_rows": null,
            "height": null,
            "justify_content": null,
            "justify_items": null,
            "left": null,
            "margin": null,
            "max_height": null,
            "max_width": null,
            "min_height": null,
            "min_width": null,
            "object_fit": null,
            "object_position": null,
            "order": null,
            "overflow": null,
            "overflow_x": null,
            "overflow_y": null,
            "padding": null,
            "right": null,
            "top": null,
            "visibility": null,
            "width": null
          }
        },
        "ca20efa252b34cfdb3f84076a91108fd": {
          "model_module": "@jupyter-widgets/base",
          "model_module_version": "1.2.0",
          "model_name": "LayoutModel",
          "state": {
            "_model_module": "@jupyter-widgets/base",
            "_model_module_version": "1.2.0",
            "_model_name": "LayoutModel",
            "_view_count": null,
            "_view_module": "@jupyter-widgets/base",
            "_view_module_version": "1.2.0",
            "_view_name": "LayoutView",
            "align_content": null,
            "align_items": null,
            "align_self": null,
            "border": null,
            "bottom": null,
            "display": null,
            "flex": null,
            "flex_flow": null,
            "grid_area": null,
            "grid_auto_columns": null,
            "grid_auto_flow": null,
            "grid_auto_rows": null,
            "grid_column": null,
            "grid_gap": null,
            "grid_row": null,
            "grid_template_areas": null,
            "grid_template_columns": null,
            "grid_template_rows": null,
            "height": null,
            "justify_content": null,
            "justify_items": null,
            "left": null,
            "margin": null,
            "max_height": null,
            "max_width": null,
            "min_height": null,
            "min_width": null,
            "object_fit": null,
            "object_position": null,
            "order": null,
            "overflow": null,
            "overflow_x": null,
            "overflow_y": null,
            "padding": null,
            "right": null,
            "top": null,
            "visibility": null,
            "width": null
          }
        },
        "cff6d140695a42869f02e8ea5c53e493": {
          "model_module": "@jupyter-widgets/controls",
          "model_module_version": "1.5.0",
          "model_name": "HTMLModel",
          "state": {
            "_dom_classes": [],
            "_model_module": "@jupyter-widgets/controls",
            "_model_module_version": "1.5.0",
            "_model_name": "HTMLModel",
            "_view_count": null,
            "_view_module": "@jupyter-widgets/controls",
            "_view_module_version": "1.5.0",
            "_view_name": "HTMLView",
            "description": "",
            "description_tooltip": null,
            "layout": "IPY_MODEL_fa06a4d13b76411b91f14fae06273e07",
            "placeholder": "​",
            "style": "IPY_MODEL_766c4424e3124b869f95e4a2abbf3503",
            "value": "tokenizer_config.json: 100%"
          }
        },
        "d2c0c4a2f2ea4b2a9fb9748aace5dc2d": {
          "model_module": "@jupyter-widgets/controls",
          "model_module_version": "1.5.0",
          "model_name": "DescriptionStyleModel",
          "state": {
            "_model_module": "@jupyter-widgets/controls",
            "_model_module_version": "1.5.0",
            "_model_name": "DescriptionStyleModel",
            "_view_count": null,
            "_view_module": "@jupyter-widgets/base",
            "_view_module_version": "1.2.0",
            "_view_name": "StyleView",
            "description_width": ""
          }
        },
        "d2ceab2db6744919b64b065fbc9302bf": {
          "model_module": "@jupyter-widgets/base",
          "model_module_version": "1.2.0",
          "model_name": "LayoutModel",
          "state": {
            "_model_module": "@jupyter-widgets/base",
            "_model_module_version": "1.2.0",
            "_model_name": "LayoutModel",
            "_view_count": null,
            "_view_module": "@jupyter-widgets/base",
            "_view_module_version": "1.2.0",
            "_view_name": "LayoutView",
            "align_content": null,
            "align_items": null,
            "align_self": null,
            "border": null,
            "bottom": null,
            "display": null,
            "flex": null,
            "flex_flow": null,
            "grid_area": null,
            "grid_auto_columns": null,
            "grid_auto_flow": null,
            "grid_auto_rows": null,
            "grid_column": null,
            "grid_gap": null,
            "grid_row": null,
            "grid_template_areas": null,
            "grid_template_columns": null,
            "grid_template_rows": null,
            "height": null,
            "justify_content": null,
            "justify_items": null,
            "left": null,
            "margin": null,
            "max_height": null,
            "max_width": null,
            "min_height": null,
            "min_width": null,
            "object_fit": null,
            "object_position": null,
            "order": null,
            "overflow": null,
            "overflow_x": null,
            "overflow_y": null,
            "padding": null,
            "right": null,
            "top": null,
            "visibility": null,
            "width": null
          }
        },
        "d66349a2c51e4415a3fdb370be48eb4e": {
          "model_module": "@jupyter-widgets/controls",
          "model_module_version": "1.5.0",
          "model_name": "ProgressStyleModel",
          "state": {
            "_model_module": "@jupyter-widgets/controls",
            "_model_module_version": "1.5.0",
            "_model_name": "ProgressStyleModel",
            "_view_count": null,
            "_view_module": "@jupyter-widgets/base",
            "_view_module_version": "1.2.0",
            "_view_name": "StyleView",
            "bar_color": null,
            "description_width": ""
          }
        },
        "d98a1027b4764422a087f505347d6ddd": {
          "model_module": "@jupyter-widgets/controls",
          "model_module_version": "1.5.0",
          "model_name": "FloatProgressModel",
          "state": {
            "_dom_classes": [],
            "_model_module": "@jupyter-widgets/controls",
            "_model_module_version": "1.5.0",
            "_model_name": "FloatProgressModel",
            "_view_count": null,
            "_view_module": "@jupyter-widgets/controls",
            "_view_module_version": "1.5.0",
            "_view_name": "ProgressView",
            "bar_style": "success",
            "description": "",
            "description_tooltip": null,
            "layout": "IPY_MODEL_01e29ac0bf104728ab2b32ce3490da08",
            "max": 280,
            "min": 0,
            "orientation": "horizontal",
            "style": "IPY_MODEL_e8ee4a6fd923419988aaa1e7507044f0",
            "value": 280
          }
        },
        "df27dbeb253f4f4a98c92fa3610ea633": {
          "model_module": "@jupyter-widgets/controls",
          "model_module_version": "1.5.0",
          "model_name": "HBoxModel",
          "state": {
            "_dom_classes": [],
            "_model_module": "@jupyter-widgets/controls",
            "_model_module_version": "1.5.0",
            "_model_name": "HBoxModel",
            "_view_count": null,
            "_view_module": "@jupyter-widgets/controls",
            "_view_module_version": "1.5.0",
            "_view_name": "HBoxView",
            "box_style": "",
            "children": [
              "IPY_MODEL_f4291856399a4439a7f4d58531be6fd6",
              "IPY_MODEL_8e62730f28a042039f0ccb4e08f87920",
              "IPY_MODEL_9470597886c34b0a90811ce0f4ea3e7c"
            ],
            "layout": "IPY_MODEL_9f23087cd8fb45479215b9cb11c3e8f2"
          }
        },
        "e38327cde210476d8fbf42020f8aa4a3": {
          "model_module": "@jupyter-widgets/base",
          "model_module_version": "1.2.0",
          "model_name": "LayoutModel",
          "state": {
            "_model_module": "@jupyter-widgets/base",
            "_model_module_version": "1.2.0",
            "_model_name": "LayoutModel",
            "_view_count": null,
            "_view_module": "@jupyter-widgets/base",
            "_view_module_version": "1.2.0",
            "_view_name": "LayoutView",
            "align_content": null,
            "align_items": null,
            "align_self": null,
            "border": null,
            "bottom": null,
            "display": null,
            "flex": null,
            "flex_flow": null,
            "grid_area": null,
            "grid_auto_columns": null,
            "grid_auto_flow": null,
            "grid_auto_rows": null,
            "grid_column": null,
            "grid_gap": null,
            "grid_row": null,
            "grid_template_areas": null,
            "grid_template_columns": null,
            "grid_template_rows": null,
            "height": null,
            "justify_content": null,
            "justify_items": null,
            "left": null,
            "margin": null,
            "max_height": null,
            "max_width": null,
            "min_height": null,
            "min_width": null,
            "object_fit": null,
            "object_position": null,
            "order": null,
            "overflow": null,
            "overflow_x": null,
            "overflow_y": null,
            "padding": null,
            "right": null,
            "top": null,
            "visibility": null,
            "width": null
          }
        },
        "e5af959cdf2048018278fb68224e3421": {
          "model_module": "@jupyter-widgets/base",
          "model_module_version": "1.2.0",
          "model_name": "LayoutModel",
          "state": {
            "_model_module": "@jupyter-widgets/base",
            "_model_module_version": "1.2.0",
            "_model_name": "LayoutModel",
            "_view_count": null,
            "_view_module": "@jupyter-widgets/base",
            "_view_module_version": "1.2.0",
            "_view_name": "LayoutView",
            "align_content": null,
            "align_items": null,
            "align_self": null,
            "border": null,
            "bottom": null,
            "display": null,
            "flex": null,
            "flex_flow": null,
            "grid_area": null,
            "grid_auto_columns": null,
            "grid_auto_flow": null,
            "grid_auto_rows": null,
            "grid_column": null,
            "grid_gap": null,
            "grid_row": null,
            "grid_template_areas": null,
            "grid_template_columns": null,
            "grid_template_rows": null,
            "height": null,
            "justify_content": null,
            "justify_items": null,
            "left": null,
            "margin": null,
            "max_height": null,
            "max_width": null,
            "min_height": null,
            "min_width": null,
            "object_fit": null,
            "object_position": null,
            "order": null,
            "overflow": null,
            "overflow_x": null,
            "overflow_y": null,
            "padding": null,
            "right": null,
            "top": null,
            "visibility": null,
            "width": null
          }
        },
        "e7093e1ca500417ea964eb4bed545f02": {
          "model_module": "@jupyter-widgets/controls",
          "model_module_version": "1.5.0",
          "model_name": "HBoxModel",
          "state": {
            "_dom_classes": [],
            "_model_module": "@jupyter-widgets/controls",
            "_model_module_version": "1.5.0",
            "_model_name": "HBoxModel",
            "_view_count": null,
            "_view_module": "@jupyter-widgets/controls",
            "_view_module_version": "1.5.0",
            "_view_name": "HBoxView",
            "box_style": "",
            "children": [
              "IPY_MODEL_723e08c7764c4c0b90ab5759b1171a37",
              "IPY_MODEL_d98a1027b4764422a087f505347d6ddd",
              "IPY_MODEL_ed51b44765a94c478c7ce6e2d4a3365a"
            ],
            "layout": "IPY_MODEL_71c4c1456e9a4e5b8e857431ca217ade"
          }
        },
        "e8ee4a6fd923419988aaa1e7507044f0": {
          "model_module": "@jupyter-widgets/controls",
          "model_module_version": "1.5.0",
          "model_name": "ProgressStyleModel",
          "state": {
            "_model_module": "@jupyter-widgets/controls",
            "_model_module_version": "1.5.0",
            "_model_name": "ProgressStyleModel",
            "_view_count": null,
            "_view_module": "@jupyter-widgets/base",
            "_view_module_version": "1.2.0",
            "_view_name": "StyleView",
            "bar_color": null,
            "description_width": ""
          }
        },
        "ea32b2ee367d4257a2dbc9fa8cbea8cf": {
          "model_module": "@jupyter-widgets/controls",
          "model_module_version": "1.5.0",
          "model_name": "DescriptionStyleModel",
          "state": {
            "_model_module": "@jupyter-widgets/controls",
            "_model_module_version": "1.5.0",
            "_model_name": "DescriptionStyleModel",
            "_view_count": null,
            "_view_module": "@jupyter-widgets/base",
            "_view_module_version": "1.2.0",
            "_view_name": "StyleView",
            "description_width": ""
          }
        },
        "eab5d70cbd6d43fb9ab716ecefac6095": {
          "model_module": "@jupyter-widgets/base",
          "model_module_version": "1.2.0",
          "model_name": "LayoutModel",
          "state": {
            "_model_module": "@jupyter-widgets/base",
            "_model_module_version": "1.2.0",
            "_model_name": "LayoutModel",
            "_view_count": null,
            "_view_module": "@jupyter-widgets/base",
            "_view_module_version": "1.2.0",
            "_view_name": "LayoutView",
            "align_content": null,
            "align_items": null,
            "align_self": null,
            "border": null,
            "bottom": null,
            "display": null,
            "flex": null,
            "flex_flow": null,
            "grid_area": null,
            "grid_auto_columns": null,
            "grid_auto_flow": null,
            "grid_auto_rows": null,
            "grid_column": null,
            "grid_gap": null,
            "grid_row": null,
            "grid_template_areas": null,
            "grid_template_columns": null,
            "grid_template_rows": null,
            "height": null,
            "justify_content": null,
            "justify_items": null,
            "left": null,
            "margin": null,
            "max_height": null,
            "max_width": null,
            "min_height": null,
            "min_width": null,
            "object_fit": null,
            "object_position": null,
            "order": null,
            "overflow": null,
            "overflow_x": null,
            "overflow_y": null,
            "padding": null,
            "right": null,
            "top": null,
            "visibility": null,
            "width": null
          }
        },
        "ed51b44765a94c478c7ce6e2d4a3365a": {
          "model_module": "@jupyter-widgets/controls",
          "model_module_version": "1.5.0",
          "model_name": "HTMLModel",
          "state": {
            "_dom_classes": [],
            "_model_module": "@jupyter-widgets/controls",
            "_model_module_version": "1.5.0",
            "_model_name": "HTMLModel",
            "_view_count": null,
            "_view_module": "@jupyter-widgets/controls",
            "_view_module_version": "1.5.0",
            "_view_name": "HTMLView",
            "description": "",
            "description_tooltip": null,
            "layout": "IPY_MODEL_7b27a63c6ceb4b0290ef7837d5c61601",
            "placeholder": "​",
            "style": "IPY_MODEL_7418ffc3b78345cca6210a7de9de2296",
            "value": " 280/280 [00:00&lt;00:00, 9.77kB/s]"
          }
        },
        "f0788ef1ffd848bfbd7154d3b1178206": {
          "model_module": "@jupyter-widgets/controls",
          "model_module_version": "1.5.0",
          "model_name": "FloatProgressModel",
          "state": {
            "_dom_classes": [],
            "_model_module": "@jupyter-widgets/controls",
            "_model_module_version": "1.5.0",
            "_model_name": "FloatProgressModel",
            "_view_count": null,
            "_view_module": "@jupyter-widgets/controls",
            "_view_module_version": "1.5.0",
            "_view_name": "ProgressView",
            "bar_style": "success",
            "description": "",
            "description_tooltip": null,
            "layout": "IPY_MODEL_896eab3c3ea54c9e8b51289cfe0e3ed2",
            "max": 1112266421,
            "min": 0,
            "orientation": "horizontal",
            "style": "IPY_MODEL_431072872b42479c9149c01e837b53e3",
            "value": 1112266421
          }
        },
        "f0a00ec3388a472cb3ad8e759d4e2b26": {
          "model_module": "@jupyter-widgets/base",
          "model_module_version": "1.2.0",
          "model_name": "LayoutModel",
          "state": {
            "_model_module": "@jupyter-widgets/base",
            "_model_module_version": "1.2.0",
            "_model_name": "LayoutModel",
            "_view_count": null,
            "_view_module": "@jupyter-widgets/base",
            "_view_module_version": "1.2.0",
            "_view_name": "LayoutView",
            "align_content": null,
            "align_items": null,
            "align_self": null,
            "border": null,
            "bottom": null,
            "display": null,
            "flex": null,
            "flex_flow": null,
            "grid_area": null,
            "grid_auto_columns": null,
            "grid_auto_flow": null,
            "grid_auto_rows": null,
            "grid_column": null,
            "grid_gap": null,
            "grid_row": null,
            "grid_template_areas": null,
            "grid_template_columns": null,
            "grid_template_rows": null,
            "height": null,
            "justify_content": null,
            "justify_items": null,
            "left": null,
            "margin": null,
            "max_height": null,
            "max_width": null,
            "min_height": null,
            "min_width": null,
            "object_fit": null,
            "object_position": null,
            "order": null,
            "overflow": null,
            "overflow_x": null,
            "overflow_y": null,
            "padding": null,
            "right": null,
            "top": null,
            "visibility": null,
            "width": null
          }
        },
        "f4291856399a4439a7f4d58531be6fd6": {
          "model_module": "@jupyter-widgets/controls",
          "model_module_version": "1.5.0",
          "model_name": "HTMLModel",
          "state": {
            "_dom_classes": [],
            "_model_module": "@jupyter-widgets/controls",
            "_model_module_version": "1.5.0",
            "_model_name": "HTMLModel",
            "_view_count": null,
            "_view_module": "@jupyter-widgets/controls",
            "_view_module_version": "1.5.0",
            "_view_name": "HTMLView",
            "description": "",
            "description_tooltip": null,
            "layout": "IPY_MODEL_8eaac2fa53e4452e8042d46aa567f753",
            "placeholder": "​",
            "style": "IPY_MODEL_66185ba5d0724b9f8ee98debe98a3ac0",
            "value": "sentencepiece.bpe.model: 100%"
          }
        },
        "f54cd1f70cb0419fa0f85e828e622e83": {
          "model_module": "@jupyter-widgets/base",
          "model_module_version": "1.2.0",
          "model_name": "LayoutModel",
          "state": {
            "_model_module": "@jupyter-widgets/base",
            "_model_module_version": "1.2.0",
            "_model_name": "LayoutModel",
            "_view_count": null,
            "_view_module": "@jupyter-widgets/base",
            "_view_module_version": "1.2.0",
            "_view_name": "LayoutView",
            "align_content": null,
            "align_items": null,
            "align_self": null,
            "border": null,
            "bottom": null,
            "display": null,
            "flex": null,
            "flex_flow": null,
            "grid_area": null,
            "grid_auto_columns": null,
            "grid_auto_flow": null,
            "grid_auto_rows": null,
            "grid_column": null,
            "grid_gap": null,
            "grid_row": null,
            "grid_template_areas": null,
            "grid_template_columns": null,
            "grid_template_rows": null,
            "height": null,
            "justify_content": null,
            "justify_items": null,
            "left": null,
            "margin": null,
            "max_height": null,
            "max_width": null,
            "min_height": null,
            "min_width": null,
            "object_fit": null,
            "object_position": null,
            "order": null,
            "overflow": null,
            "overflow_x": null,
            "overflow_y": null,
            "padding": null,
            "right": null,
            "top": null,
            "visibility": null,
            "width": null
          }
        },
        "f661f4811a6a47389237563f68dceb92": {
          "model_module": "@jupyter-widgets/base",
          "model_module_version": "1.2.0",
          "model_name": "LayoutModel",
          "state": {
            "_model_module": "@jupyter-widgets/base",
            "_model_module_version": "1.2.0",
            "_model_name": "LayoutModel",
            "_view_count": null,
            "_view_module": "@jupyter-widgets/base",
            "_view_module_version": "1.2.0",
            "_view_name": "LayoutView",
            "align_content": null,
            "align_items": null,
            "align_self": null,
            "border": null,
            "bottom": null,
            "display": null,
            "flex": null,
            "flex_flow": null,
            "grid_area": null,
            "grid_auto_columns": null,
            "grid_auto_flow": null,
            "grid_auto_rows": null,
            "grid_column": null,
            "grid_gap": null,
            "grid_row": null,
            "grid_template_areas": null,
            "grid_template_columns": null,
            "grid_template_rows": null,
            "height": null,
            "justify_content": null,
            "justify_items": null,
            "left": null,
            "margin": null,
            "max_height": null,
            "max_width": null,
            "min_height": null,
            "min_width": null,
            "object_fit": null,
            "object_position": null,
            "order": null,
            "overflow": null,
            "overflow_x": null,
            "overflow_y": null,
            "padding": null,
            "right": null,
            "top": null,
            "visibility": null,
            "width": null
          }
        },
        "f715078d02e84d3abed5fb4ba3a08571": {
          "model_module": "@jupyter-widgets/base",
          "model_module_version": "1.2.0",
          "model_name": "LayoutModel",
          "state": {
            "_model_module": "@jupyter-widgets/base",
            "_model_module_version": "1.2.0",
            "_model_name": "LayoutModel",
            "_view_count": null,
            "_view_module": "@jupyter-widgets/base",
            "_view_module_version": "1.2.0",
            "_view_name": "LayoutView",
            "align_content": null,
            "align_items": null,
            "align_self": null,
            "border": null,
            "bottom": null,
            "display": null,
            "flex": null,
            "flex_flow": null,
            "grid_area": null,
            "grid_auto_columns": null,
            "grid_auto_flow": null,
            "grid_auto_rows": null,
            "grid_column": null,
            "grid_gap": null,
            "grid_row": null,
            "grid_template_areas": null,
            "grid_template_columns": null,
            "grid_template_rows": null,
            "height": null,
            "justify_content": null,
            "justify_items": null,
            "left": null,
            "margin": null,
            "max_height": null,
            "max_width": null,
            "min_height": null,
            "min_width": null,
            "object_fit": null,
            "object_position": null,
            "order": null,
            "overflow": null,
            "overflow_x": null,
            "overflow_y": null,
            "padding": null,
            "right": null,
            "top": null,
            "visibility": null,
            "width": null
          }
        },
        "fa06a4d13b76411b91f14fae06273e07": {
          "model_module": "@jupyter-widgets/base",
          "model_module_version": "1.2.0",
          "model_name": "LayoutModel",
          "state": {
            "_model_module": "@jupyter-widgets/base",
            "_model_module_version": "1.2.0",
            "_model_name": "LayoutModel",
            "_view_count": null,
            "_view_module": "@jupyter-widgets/base",
            "_view_module_version": "1.2.0",
            "_view_name": "LayoutView",
            "align_content": null,
            "align_items": null,
            "align_self": null,
            "border": null,
            "bottom": null,
            "display": null,
            "flex": null,
            "flex_flow": null,
            "grid_area": null,
            "grid_auto_columns": null,
            "grid_auto_flow": null,
            "grid_auto_rows": null,
            "grid_column": null,
            "grid_gap": null,
            "grid_row": null,
            "grid_template_areas": null,
            "grid_template_columns": null,
            "grid_template_rows": null,
            "height": null,
            "justify_content": null,
            "justify_items": null,
            "left": null,
            "margin": null,
            "max_height": null,
            "max_width": null,
            "min_height": null,
            "min_width": null,
            "object_fit": null,
            "object_position": null,
            "order": null,
            "overflow": null,
            "overflow_x": null,
            "overflow_y": null,
            "padding": null,
            "right": null,
            "top": null,
            "visibility": null,
            "width": null
          }
        },
        "fd02213581864c48b8efa525792db89a": {
          "model_module": "@jupyter-widgets/controls",
          "model_module_version": "1.5.0",
          "model_name": "DescriptionStyleModel",
          "state": {
            "_model_module": "@jupyter-widgets/controls",
            "_model_module_version": "1.5.0",
            "_model_name": "DescriptionStyleModel",
            "_view_count": null,
            "_view_module": "@jupyter-widgets/base",
            "_view_module_version": "1.2.0",
            "_view_name": "StyleView",
            "description_width": ""
          }
        },
        "ffcca1f6970e4e39a534d7fb2b94d16d": {
          "model_module": "@jupyter-widgets/controls",
          "model_module_version": "1.5.0",
          "model_name": "ProgressStyleModel",
          "state": {
            "_model_module": "@jupyter-widgets/controls",
            "_model_module_version": "1.5.0",
            "_model_name": "ProgressStyleModel",
            "_view_count": null,
            "_view_module": "@jupyter-widgets/base",
            "_view_module_version": "1.2.0",
            "_view_name": "StyleView",
            "bar_color": null,
            "description_width": ""
          }
        }
      }
    }
  },
  "nbformat": 4,
  "nbformat_minor": 0
}
